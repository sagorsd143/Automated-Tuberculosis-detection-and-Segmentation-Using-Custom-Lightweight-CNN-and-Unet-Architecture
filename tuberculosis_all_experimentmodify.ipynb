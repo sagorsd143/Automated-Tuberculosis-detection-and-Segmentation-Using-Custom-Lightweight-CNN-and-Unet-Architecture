{
  "metadata": {
    "kernelspec": {
      "language": "python",
      "display_name": "Python 3",
      "name": "python3"
    },
    "language_info": {
      "name": "python",
      "version": "3.10.14",
      "mimetype": "text/x-python",
      "codemirror_mode": {
        "name": "ipython",
        "version": 3
      },
      "pygments_lexer": "ipython3",
      "nbconvert_exporter": "python",
      "file_extension": ".py"
    },
    "kaggle": {
      "accelerator": "gpu",
      "dataSources": [
        {
          "sourceId": 2332307,
          "sourceType": "datasetVersion",
          "datasetId": 891819
        }
      ],
      "dockerImageVersionId": 30787,
      "isInternetEnabled": true,
      "language": "python",
      "sourceType": "notebook",
      "isGpuEnabled": true
    },
    "colab": {
      "provenance": [],
      "toc_visible": true
    }
  },
  "nbformat_minor": 0,
  "nbformat": 4,
  "cells": [
    {
      "cell_type": "markdown",
      "source": [
        "# Experiment 1\n",
        "# Pretrained model trail"
      ],
      "metadata": {
        "id": "novQ6mcZsgY1"
      }
    },
    {
      "cell_type": "code",
      "source": [
        "from IPython.display import clear_output"
      ],
      "metadata": {
        "trusted": true,
        "execution": {
          "iopub.status.busy": "2024-12-02T04:25:54.251971Z",
          "iopub.execute_input": "2024-12-02T04:25:54.252377Z",
          "iopub.status.idle": "2024-12-02T04:25:54.260896Z",
          "shell.execute_reply.started": "2024-12-02T04:25:54.252337Z",
          "shell.execute_reply": "2024-12-02T04:25:54.260005Z"
        },
        "id": "d6A8gtOJsgY5"
      },
      "outputs": [],
      "execution_count": null
    },
    {
      "cell_type": "code",
      "source": [
        "import logging\n",
        "import os\n",
        "\n",
        "os.environ['TF_CPP_MIN_LOG_LEVEL'] = '3'  # FATAL\n",
        "logging.getLogger('tensorflow').setLevel(logging.FATAL)"
      ],
      "metadata": {
        "trusted": true,
        "execution": {
          "iopub.status.busy": "2024-12-02T04:25:54.262310Z",
          "iopub.execute_input": "2024-12-02T04:25:54.262636Z",
          "iopub.status.idle": "2024-12-02T04:25:54.277384Z",
          "shell.execute_reply.started": "2024-12-02T04:25:54.262609Z",
          "shell.execute_reply": "2024-12-02T04:25:54.276625Z"
        },
        "id": "gqeZzMzRsgY7"
      },
      "outputs": [],
      "execution_count": null
    },
    {
      "cell_type": "code",
      "source": [
        "import tensorflow as tf\n",
        "import pandas as pd\n",
        "import seaborn as sns"
      ],
      "metadata": {
        "trusted": true,
        "execution": {
          "iopub.status.busy": "2024-12-02T04:25:54.278438Z",
          "iopub.execute_input": "2024-12-02T04:25:54.278765Z",
          "iopub.status.idle": "2024-12-02T04:26:06.278053Z",
          "shell.execute_reply.started": "2024-12-02T04:25:54.278724Z",
          "shell.execute_reply": "2024-12-02T04:26:06.277363Z"
        },
        "id": "SGZhlvebsgY8"
      },
      "outputs": [],
      "execution_count": null
    },
    {
      "cell_type": "markdown",
      "source": [
        "# Data path"
      ],
      "metadata": {
        "id": "drhGCu3rsgY9"
      }
    },
    {
      "cell_type": "code",
      "source": [
        "DATA_PATH = \"/kaggle/input/tuberculosis-tb-chest-xray-dataset/TB_Chest_Radiography_Database/\""
      ],
      "metadata": {
        "trusted": true,
        "execution": {
          "iopub.status.busy": "2024-12-02T04:26:06.279823Z",
          "iopub.execute_input": "2024-12-02T04:26:06.280255Z",
          "iopub.status.idle": "2024-12-02T04:26:06.284287Z",
          "shell.execute_reply.started": "2024-12-02T04:26:06.280227Z",
          "shell.execute_reply": "2024-12-02T04:26:06.283473Z"
        },
        "id": "cv3eAOygsgY-"
      },
      "outputs": [],
      "execution_count": null
    },
    {
      "cell_type": "code",
      "source": [
        "BATCH_SIZE       = 32\n",
        "IMG_HEIGHT_WIDTH = 256\n",
        "IMG_INPUT_SHAPE  = (IMG_HEIGHT_WIDTH, IMG_HEIGHT_WIDTH, 3)\n",
        "MAX_EPOCHS       = 15"
      ],
      "metadata": {
        "trusted": true,
        "execution": {
          "iopub.status.busy": "2024-12-02T04:26:06.285353Z",
          "iopub.execute_input": "2024-12-02T04:26:06.285757Z",
          "iopub.status.idle": "2024-12-02T04:26:06.303759Z",
          "shell.execute_reply.started": "2024-12-02T04:26:06.285709Z",
          "shell.execute_reply": "2024-12-02T04:26:06.302942Z"
        },
        "id": "Mvooq9bCsgY-"
      },
      "outputs": [],
      "execution_count": null
    },
    {
      "cell_type": "markdown",
      "source": [
        "# Train test split"
      ],
      "metadata": {
        "id": "AM4MLmYVsgY_"
      }
    },
    {
      "cell_type": "code",
      "source": [
        "DS_TRAIN = tf.keras.utils.image_dataset_from_directory(\n",
        "    DATA_PATH,\n",
        "    validation_split=0.2,\n",
        "    subset=\"training\",\n",
        "    seed=123,\n",
        "    image_size=(IMG_HEIGHT_WIDTH, IMG_HEIGHT_WIDTH),\n",
        "    batch_size=BATCH_SIZE\n",
        ")\n",
        "DS_VALID = tf.keras.utils.image_dataset_from_directory(\n",
        "    DATA_PATH,\n",
        "    validation_split=0.2,\n",
        "    subset=\"validation\",\n",
        "    seed=123,\n",
        "    image_size=(IMG_HEIGHT_WIDTH, IMG_HEIGHT_WIDTH),\n",
        "    batch_size=BATCH_SIZE\n",
        ")"
      ],
      "metadata": {
        "trusted": true,
        "execution": {
          "iopub.status.busy": "2024-12-02T04:26:06.304844Z",
          "iopub.execute_input": "2024-12-02T04:26:06.305141Z",
          "iopub.status.idle": "2024-12-02T04:26:19.607197Z",
          "shell.execute_reply.started": "2024-12-02T04:26:06.305114Z",
          "shell.execute_reply": "2024-12-02T04:26:19.606441Z"
        },
        "id": "B5UKa3VqsgY_",
        "outputId": "e430c558-e7b6-4bfe-cf5a-05ce719849f8"
      },
      "outputs": [
        {
          "name": "stdout",
          "text": "Found 4200 files belonging to 2 classes.\nUsing 3360 files for training.\nFound 4200 files belonging to 2 classes.\nUsing 840 files for validation.\n",
          "output_type": "stream"
        }
      ],
      "execution_count": null
    },
    {
      "cell_type": "code",
      "source": [
        "AUTOTUNE = tf.data.AUTOTUNE\n",
        "DS_TRAIN = DS_TRAIN.cache().prefetch(buffer_size=AUTOTUNE)\n",
        "DS_VALID = DS_VALID.cache().prefetch(buffer_size=AUTOTUNE)"
      ],
      "metadata": {
        "trusted": true,
        "execution": {
          "iopub.status.busy": "2024-12-02T04:26:19.608262Z",
          "iopub.execute_input": "2024-12-02T04:26:19.608581Z",
          "iopub.status.idle": "2024-12-02T04:26:19.621031Z",
          "shell.execute_reply.started": "2024-12-02T04:26:19.608551Z",
          "shell.execute_reply": "2024-12-02T04:26:19.620243Z"
        },
        "id": "5Gv0hg3BsgZB"
      },
      "outputs": [],
      "execution_count": null
    },
    {
      "cell_type": "markdown",
      "source": [
        "# Loading ImageNet\n",
        "# Preparing pre-trained models"
      ],
      "metadata": {
        "id": "-eYBP4FWsgZB"
      }
    },
    {
      "cell_type": "code",
      "source": [
        "def get_model(tf_model):\n",
        "    model = None\n",
        "    if tf_model == \"VGG16\":\n",
        "        model = tf.keras.applications.VGG16(include_top=False, weights=\"imagenet\", input_tensor = tf.keras.Input(shape=IMG_INPUT_SHAPE))\n",
        "    elif tf_model == \"ResNet50\":\n",
        "        model = tf.keras.applications.ResNet50(include_top=False, weights=\"imagenet\", input_tensor = tf.keras.Input(shape=IMG_INPUT_SHAPE))\n",
        "    elif tf_model == \"MobileNetV2\":\n",
        "        model = tf.keras.applications.MobileNetV2(include_top=False, weights=\"imagenet\", input_tensor = tf.keras.Input(shape=IMG_INPUT_SHAPE))\n",
        "    else:\n",
        "        raise Exception('SUNXYZ', 'Model unknown')\n",
        "    return_model = tf.keras.models.Sequential()\n",
        "    return_model.add(model)\n",
        "    return_model.add(tf.keras.layers.Flatten())\n",
        "    return_model.add(tf.keras.layers.Dense(512))\n",
        "    return_model.add(tf.keras.layers.Dense(256, activation='relu'))\n",
        "    return_model.add(tf.keras.layers.Dense(64, activation='relu'))\n",
        "    return_model.add(tf.keras.layers.Dense(2, activation='softmax'))\n",
        "    return return_model"
      ],
      "metadata": {
        "trusted": true,
        "execution": {
          "iopub.status.busy": "2024-12-02T04:26:19.622233Z",
          "iopub.execute_input": "2024-12-02T04:26:19.622616Z",
          "iopub.status.idle": "2024-12-02T04:26:19.630175Z",
          "shell.execute_reply.started": "2024-12-02T04:26:19.622573Z",
          "shell.execute_reply": "2024-12-02T04:26:19.629406Z"
        },
        "id": "ilwvK634sgZC"
      },
      "outputs": [],
      "execution_count": null
    },
    {
      "cell_type": "code",
      "source": [
        "BASIC_MODEL = tf.keras.models.Sequential()\n",
        "BASIC_MODEL.add(tf.keras.layers.Conv2D(32, (3, 3), activation='relu', input_shape=(32, 32, 3)))\n",
        "BASIC_MODEL.add(tf.keras.layers.MaxPooling2D((2, 2)))\n",
        "BASIC_MODEL.add(tf.keras.layers.Conv2D(64, (3, 3), activation='relu'))\n",
        "BASIC_MODEL.add(tf.keras.layers.MaxPooling2D((2, 2)))\n",
        "BASIC_MODEL.add(tf.keras.layers.Conv2D(64, (3, 3), activation='relu'))\n",
        "BASIC_MODEL.add(tf.keras.layers.Flatten())\n",
        "BASIC_MODEL.add(tf.keras.layers.Dense(256, activation='relu'))\n",
        "BASIC_MODEL.add(tf.keras.layers.Dense(64, activation='relu'))\n",
        "BASIC_MODEL.add(tf.keras.layers.Dense(2, activation='softmax'))"
      ],
      "metadata": {
        "trusted": true,
        "execution": {
          "iopub.status.busy": "2024-12-02T04:26:19.632510Z",
          "iopub.execute_input": "2024-12-02T04:26:19.632772Z",
          "iopub.status.idle": "2024-12-02T04:26:19.751179Z",
          "shell.execute_reply.started": "2024-12-02T04:26:19.632747Z",
          "shell.execute_reply": "2024-12-02T04:26:19.750258Z"
        },
        "id": "qSYyHuRUsgZC",
        "outputId": "b47f9bcf-1f27-46eb-c50b-233014de6b7e"
      },
      "outputs": [
        {
          "name": "stderr",
          "text": "/opt/conda/lib/python3.10/site-packages/keras/src/layers/convolutional/base_conv.py:107: UserWarning: Do not pass an `input_shape`/`input_dim` argument to a layer. When using Sequential models, prefer using an `Input(shape)` object as the first layer in the model instead.\n  super().__init__(activity_regularizer=activity_regularizer, **kwargs)\n",
          "output_type": "stream"
        }
      ],
      "execution_count": null
    },
    {
      "cell_type": "markdown",
      "source": [
        "# VGG16, ResNet50, MobileNetV2"
      ],
      "metadata": {
        "id": "bnCt7z7qsgZD"
      }
    },
    {
      "cell_type": "code",
      "source": [
        "VGG16_MODEL       = get_model(\"VGG16\")\n",
        "RESNET50_MODEL    = get_model(\"ResNet50\")\n",
        "MOBILENETv2_MODEL = get_model(\"MobileNetV2\")"
      ],
      "metadata": {
        "trusted": true,
        "execution": {
          "iopub.status.busy": "2024-12-02T04:26:19.752330Z",
          "iopub.execute_input": "2024-12-02T04:26:19.752700Z",
          "iopub.status.idle": "2024-12-02T04:26:28.469408Z",
          "shell.execute_reply.started": "2024-12-02T04:26:19.752659Z",
          "shell.execute_reply": "2024-12-02T04:26:28.468504Z"
        },
        "id": "7xaObVT7sgZD",
        "outputId": "6dde58d1-eba5-4283-9979-9c1817bf3659"
      },
      "outputs": [
        {
          "name": "stdout",
          "text": "Downloading data from https://storage.googleapis.com/tensorflow/keras-applications/vgg16/vgg16_weights_tf_dim_ordering_tf_kernels_notop.h5\n\u001b[1m58889256/58889256\u001b[0m \u001b[32m━━━━━━━━━━━━━━━━━━━━\u001b[0m\u001b[37m\u001b[0m \u001b[1m2s\u001b[0m 0us/step\nDownloading data from https://storage.googleapis.com/tensorflow/keras-applications/resnet/resnet50_weights_tf_dim_ordering_tf_kernels_notop.h5\n\u001b[1m94765736/94765736\u001b[0m \u001b[32m━━━━━━━━━━━━━━━━━━━━\u001b[0m\u001b[37m\u001b[0m \u001b[1m3s\u001b[0m 0us/step\n",
          "output_type": "stream"
        },
        {
          "name": "stderr",
          "text": "/tmp/ipykernel_30/1458139494.py:8: UserWarning: `input_shape` is undefined or non-square, or `rows` is not in [96, 128, 160, 192, 224]. Weights for input shape (224, 224) will be loaded as the default.\n  model = tf.keras.applications.MobileNetV2(include_top=False, weights=\"imagenet\", input_tensor = tf.keras.Input(shape=IMG_INPUT_SHAPE))\n",
          "output_type": "stream"
        },
        {
          "name": "stdout",
          "text": "Downloading data from https://storage.googleapis.com/tensorflow/keras-applications/mobilenet_v2/mobilenet_v2_weights_tf_dim_ordering_tf_kernels_1.0_224_no_top.h5\n\u001b[1m9406464/9406464\u001b[0m \u001b[32m━━━━━━━━━━━━━━━━━━━━\u001b[0m\u001b[37m\u001b[0m \u001b[1m1s\u001b[0m 0us/step\n",
          "output_type": "stream"
        }
      ],
      "execution_count": null
    },
    {
      "cell_type": "code",
      "source": [
        "VGG16_MODEL.summary()"
      ],
      "metadata": {
        "trusted": true,
        "execution": {
          "iopub.status.busy": "2024-12-02T04:26:28.470619Z",
          "iopub.execute_input": "2024-12-02T04:26:28.470906Z",
          "iopub.status.idle": "2024-12-02T04:26:28.489695Z",
          "shell.execute_reply.started": "2024-12-02T04:26:28.470876Z",
          "shell.execute_reply": "2024-12-02T04:26:28.488949Z"
        },
        "id": "wqptNNWJsgZE",
        "outputId": "47b6629d-7441-4765-ff39-7ffb5315bf54"
      },
      "outputs": [
        {
          "output_type": "display_data",
          "data": {
            "text/plain": "\u001b[1mModel: \"sequential_1\"\u001b[0m\n",
            "text/html": "<pre style=\"white-space:pre;overflow-x:auto;line-height:normal;font-family:Menlo,'DejaVu Sans Mono',consolas,'Courier New',monospace\"><span style=\"font-weight: bold\">Model: \"sequential_1\"</span>\n</pre>\n"
          },
          "metadata": {}
        },
        {
          "output_type": "display_data",
          "data": {
            "text/plain": "┏━━━━━━━━━━━━━━━━━━━━━━━━━━━━━━━━━┳━━━━━━━━━━━━━━━━━━━━━━━━┳━━━━━━━━━━━━━━━┓\n┃\u001b[1m \u001b[0m\u001b[1mLayer (type)                   \u001b[0m\u001b[1m \u001b[0m┃\u001b[1m \u001b[0m\u001b[1mOutput Shape          \u001b[0m\u001b[1m \u001b[0m┃\u001b[1m \u001b[0m\u001b[1m      Param #\u001b[0m\u001b[1m \u001b[0m┃\n┡━━━━━━━━━━━━━━━━━━━━━━━━━━━━━━━━━╇━━━━━━━━━━━━━━━━━━━━━━━━╇━━━━━━━━━━━━━━━┩\n│ vgg16 (\u001b[38;5;33mFunctional\u001b[0m)              │ ?                      │    \u001b[38;5;34m14,714,688\u001b[0m │\n├─────────────────────────────────┼────────────────────────┼───────────────┤\n│ flatten_1 (\u001b[38;5;33mFlatten\u001b[0m)             │ ?                      │   \u001b[38;5;34m0\u001b[0m (unbuilt) │\n├─────────────────────────────────┼────────────────────────┼───────────────┤\n│ dense_3 (\u001b[38;5;33mDense\u001b[0m)                 │ ?                      │   \u001b[38;5;34m0\u001b[0m (unbuilt) │\n├─────────────────────────────────┼────────────────────────┼───────────────┤\n│ dense_4 (\u001b[38;5;33mDense\u001b[0m)                 │ ?                      │   \u001b[38;5;34m0\u001b[0m (unbuilt) │\n├─────────────────────────────────┼────────────────────────┼───────────────┤\n│ dense_5 (\u001b[38;5;33mDense\u001b[0m)                 │ ?                      │   \u001b[38;5;34m0\u001b[0m (unbuilt) │\n├─────────────────────────────────┼────────────────────────┼───────────────┤\n│ dense_6 (\u001b[38;5;33mDense\u001b[0m)                 │ ?                      │   \u001b[38;5;34m0\u001b[0m (unbuilt) │\n└─────────────────────────────────┴────────────────────────┴───────────────┘\n",
            "text/html": "<pre style=\"white-space:pre;overflow-x:auto;line-height:normal;font-family:Menlo,'DejaVu Sans Mono',consolas,'Courier New',monospace\">┏━━━━━━━━━━━━━━━━━━━━━━━━━━━━━━━━━┳━━━━━━━━━━━━━━━━━━━━━━━━┳━━━━━━━━━━━━━━━┓\n┃<span style=\"font-weight: bold\"> Layer (type)                    </span>┃<span style=\"font-weight: bold\"> Output Shape           </span>┃<span style=\"font-weight: bold\">       Param # </span>┃\n┡━━━━━━━━━━━━━━━━━━━━━━━━━━━━━━━━━╇━━━━━━━━━━━━━━━━━━━━━━━━╇━━━━━━━━━━━━━━━┩\n│ vgg16 (<span style=\"color: #0087ff; text-decoration-color: #0087ff\">Functional</span>)              │ ?                      │    <span style=\"color: #00af00; text-decoration-color: #00af00\">14,714,688</span> │\n├─────────────────────────────────┼────────────────────────┼───────────────┤\n│ flatten_1 (<span style=\"color: #0087ff; text-decoration-color: #0087ff\">Flatten</span>)             │ ?                      │   <span style=\"color: #00af00; text-decoration-color: #00af00\">0</span> (unbuilt) │\n├─────────────────────────────────┼────────────────────────┼───────────────┤\n│ dense_3 (<span style=\"color: #0087ff; text-decoration-color: #0087ff\">Dense</span>)                 │ ?                      │   <span style=\"color: #00af00; text-decoration-color: #00af00\">0</span> (unbuilt) │\n├─────────────────────────────────┼────────────────────────┼───────────────┤\n│ dense_4 (<span style=\"color: #0087ff; text-decoration-color: #0087ff\">Dense</span>)                 │ ?                      │   <span style=\"color: #00af00; text-decoration-color: #00af00\">0</span> (unbuilt) │\n├─────────────────────────────────┼────────────────────────┼───────────────┤\n│ dense_5 (<span style=\"color: #0087ff; text-decoration-color: #0087ff\">Dense</span>)                 │ ?                      │   <span style=\"color: #00af00; text-decoration-color: #00af00\">0</span> (unbuilt) │\n├─────────────────────────────────┼────────────────────────┼───────────────┤\n│ dense_6 (<span style=\"color: #0087ff; text-decoration-color: #0087ff\">Dense</span>)                 │ ?                      │   <span style=\"color: #00af00; text-decoration-color: #00af00\">0</span> (unbuilt) │\n└─────────────────────────────────┴────────────────────────┴───────────────┘\n</pre>\n"
          },
          "metadata": {}
        },
        {
          "output_type": "display_data",
          "data": {
            "text/plain": "\u001b[1m Total params: \u001b[0m\u001b[38;5;34m14,714,688\u001b[0m (56.13 MB)\n",
            "text/html": "<pre style=\"white-space:pre;overflow-x:auto;line-height:normal;font-family:Menlo,'DejaVu Sans Mono',consolas,'Courier New',monospace\"><span style=\"font-weight: bold\"> Total params: </span><span style=\"color: #00af00; text-decoration-color: #00af00\">14,714,688</span> (56.13 MB)\n</pre>\n"
          },
          "metadata": {}
        },
        {
          "output_type": "display_data",
          "data": {
            "text/plain": "\u001b[1m Trainable params: \u001b[0m\u001b[38;5;34m14,714,688\u001b[0m (56.13 MB)\n",
            "text/html": "<pre style=\"white-space:pre;overflow-x:auto;line-height:normal;font-family:Menlo,'DejaVu Sans Mono',consolas,'Courier New',monospace\"><span style=\"font-weight: bold\"> Trainable params: </span><span style=\"color: #00af00; text-decoration-color: #00af00\">14,714,688</span> (56.13 MB)\n</pre>\n"
          },
          "metadata": {}
        },
        {
          "output_type": "display_data",
          "data": {
            "text/plain": "\u001b[1m Non-trainable params: \u001b[0m\u001b[38;5;34m0\u001b[0m (0.00 B)\n",
            "text/html": "<pre style=\"white-space:pre;overflow-x:auto;line-height:normal;font-family:Menlo,'DejaVu Sans Mono',consolas,'Courier New',monospace\"><span style=\"font-weight: bold\"> Non-trainable params: </span><span style=\"color: #00af00; text-decoration-color: #00af00\">0</span> (0.00 B)\n</pre>\n"
          },
          "metadata": {}
        }
      ],
      "execution_count": null
    },
    {
      "cell_type": "code",
      "source": [
        "RESNET50_MODEL.summary()"
      ],
      "metadata": {
        "trusted": true,
        "execution": {
          "iopub.status.busy": "2024-12-02T04:26:28.490539Z",
          "iopub.execute_input": "2024-12-02T04:26:28.490772Z",
          "iopub.status.idle": "2024-12-02T04:26:28.799191Z",
          "shell.execute_reply.started": "2024-12-02T04:26:28.490747Z",
          "shell.execute_reply": "2024-12-02T04:26:28.798513Z"
        },
        "id": "Nb7DVxv7sgZE",
        "outputId": "212ceb46-e6f0-4e1a-c824-35295e4d5de8"
      },
      "outputs": [
        {
          "output_type": "display_data",
          "data": {
            "text/plain": "\u001b[1mModel: \"sequential_2\"\u001b[0m\n",
            "text/html": "<pre style=\"white-space:pre;overflow-x:auto;line-height:normal;font-family:Menlo,'DejaVu Sans Mono',consolas,'Courier New',monospace\"><span style=\"font-weight: bold\">Model: \"sequential_2\"</span>\n</pre>\n"
          },
          "metadata": {}
        },
        {
          "output_type": "display_data",
          "data": {
            "text/plain": "┏━━━━━━━━━━━━━━━━━━━━━━━━━━━━━━━━━┳━━━━━━━━━━━━━━━━━━━━━━━━┳━━━━━━━━━━━━━━━┓\n┃\u001b[1m \u001b[0m\u001b[1mLayer (type)                   \u001b[0m\u001b[1m \u001b[0m┃\u001b[1m \u001b[0m\u001b[1mOutput Shape          \u001b[0m\u001b[1m \u001b[0m┃\u001b[1m \u001b[0m\u001b[1m      Param #\u001b[0m\u001b[1m \u001b[0m┃\n┡━━━━━━━━━━━━━━━━━━━━━━━━━━━━━━━━━╇━━━━━━━━━━━━━━━━━━━━━━━━╇━━━━━━━━━━━━━━━┩\n│ resnet50 (\u001b[38;5;33mFunctional\u001b[0m)           │ ?                      │    \u001b[38;5;34m23,587,712\u001b[0m │\n├─────────────────────────────────┼────────────────────────┼───────────────┤\n│ flatten_2 (\u001b[38;5;33mFlatten\u001b[0m)             │ ?                      │   \u001b[38;5;34m0\u001b[0m (unbuilt) │\n├─────────────────────────────────┼────────────────────────┼───────────────┤\n│ dense_7 (\u001b[38;5;33mDense\u001b[0m)                 │ ?                      │   \u001b[38;5;34m0\u001b[0m (unbuilt) │\n├─────────────────────────────────┼────────────────────────┼───────────────┤\n│ dense_8 (\u001b[38;5;33mDense\u001b[0m)                 │ ?                      │   \u001b[38;5;34m0\u001b[0m (unbuilt) │\n├─────────────────────────────────┼────────────────────────┼───────────────┤\n│ dense_9 (\u001b[38;5;33mDense\u001b[0m)                 │ ?                      │   \u001b[38;5;34m0\u001b[0m (unbuilt) │\n├─────────────────────────────────┼────────────────────────┼───────────────┤\n│ dense_10 (\u001b[38;5;33mDense\u001b[0m)                │ ?                      │   \u001b[38;5;34m0\u001b[0m (unbuilt) │\n└─────────────────────────────────┴────────────────────────┴───────────────┘\n",
            "text/html": "<pre style=\"white-space:pre;overflow-x:auto;line-height:normal;font-family:Menlo,'DejaVu Sans Mono',consolas,'Courier New',monospace\">┏━━━━━━━━━━━━━━━━━━━━━━━━━━━━━━━━━┳━━━━━━━━━━━━━━━━━━━━━━━━┳━━━━━━━━━━━━━━━┓\n┃<span style=\"font-weight: bold\"> Layer (type)                    </span>┃<span style=\"font-weight: bold\"> Output Shape           </span>┃<span style=\"font-weight: bold\">       Param # </span>┃\n┡━━━━━━━━━━━━━━━━━━━━━━━━━━━━━━━━━╇━━━━━━━━━━━━━━━━━━━━━━━━╇━━━━━━━━━━━━━━━┩\n│ resnet50 (<span style=\"color: #0087ff; text-decoration-color: #0087ff\">Functional</span>)           │ ?                      │    <span style=\"color: #00af00; text-decoration-color: #00af00\">23,587,712</span> │\n├─────────────────────────────────┼────────────────────────┼───────────────┤\n│ flatten_2 (<span style=\"color: #0087ff; text-decoration-color: #0087ff\">Flatten</span>)             │ ?                      │   <span style=\"color: #00af00; text-decoration-color: #00af00\">0</span> (unbuilt) │\n├─────────────────────────────────┼────────────────────────┼───────────────┤\n│ dense_7 (<span style=\"color: #0087ff; text-decoration-color: #0087ff\">Dense</span>)                 │ ?                      │   <span style=\"color: #00af00; text-decoration-color: #00af00\">0</span> (unbuilt) │\n├─────────────────────────────────┼────────────────────────┼───────────────┤\n│ dense_8 (<span style=\"color: #0087ff; text-decoration-color: #0087ff\">Dense</span>)                 │ ?                      │   <span style=\"color: #00af00; text-decoration-color: #00af00\">0</span> (unbuilt) │\n├─────────────────────────────────┼────────────────────────┼───────────────┤\n│ dense_9 (<span style=\"color: #0087ff; text-decoration-color: #0087ff\">Dense</span>)                 │ ?                      │   <span style=\"color: #00af00; text-decoration-color: #00af00\">0</span> (unbuilt) │\n├─────────────────────────────────┼────────────────────────┼───────────────┤\n│ dense_10 (<span style=\"color: #0087ff; text-decoration-color: #0087ff\">Dense</span>)                │ ?                      │   <span style=\"color: #00af00; text-decoration-color: #00af00\">0</span> (unbuilt) │\n└─────────────────────────────────┴────────────────────────┴───────────────┘\n</pre>\n"
          },
          "metadata": {}
        },
        {
          "output_type": "display_data",
          "data": {
            "text/plain": "\u001b[1m Total params: \u001b[0m\u001b[38;5;34m23,587,712\u001b[0m (89.98 MB)\n",
            "text/html": "<pre style=\"white-space:pre;overflow-x:auto;line-height:normal;font-family:Menlo,'DejaVu Sans Mono',consolas,'Courier New',monospace\"><span style=\"font-weight: bold\"> Total params: </span><span style=\"color: #00af00; text-decoration-color: #00af00\">23,587,712</span> (89.98 MB)\n</pre>\n"
          },
          "metadata": {}
        },
        {
          "output_type": "display_data",
          "data": {
            "text/plain": "\u001b[1m Trainable params: \u001b[0m\u001b[38;5;34m23,534,592\u001b[0m (89.78 MB)\n",
            "text/html": "<pre style=\"white-space:pre;overflow-x:auto;line-height:normal;font-family:Menlo,'DejaVu Sans Mono',consolas,'Courier New',monospace\"><span style=\"font-weight: bold\"> Trainable params: </span><span style=\"color: #00af00; text-decoration-color: #00af00\">23,534,592</span> (89.78 MB)\n</pre>\n"
          },
          "metadata": {}
        },
        {
          "output_type": "display_data",
          "data": {
            "text/plain": "\u001b[1m Non-trainable params: \u001b[0m\u001b[38;5;34m53,120\u001b[0m (207.50 KB)\n",
            "text/html": "<pre style=\"white-space:pre;overflow-x:auto;line-height:normal;font-family:Menlo,'DejaVu Sans Mono',consolas,'Courier New',monospace\"><span style=\"font-weight: bold\"> Non-trainable params: </span><span style=\"color: #00af00; text-decoration-color: #00af00\">53,120</span> (207.50 KB)\n</pre>\n"
          },
          "metadata": {}
        }
      ],
      "execution_count": null
    },
    {
      "cell_type": "code",
      "source": [
        "MOBILENETv2_MODEL.summary()"
      ],
      "metadata": {
        "trusted": true,
        "execution": {
          "iopub.status.busy": "2024-12-02T04:26:28.800323Z",
          "iopub.execute_input": "2024-12-02T04:26:28.800707Z",
          "iopub.status.idle": "2024-12-02T04:26:28.822295Z",
          "shell.execute_reply.started": "2024-12-02T04:26:28.800667Z",
          "shell.execute_reply": "2024-12-02T04:26:28.821602Z"
        },
        "id": "ckrhs_hTsgZE",
        "outputId": "09d9875c-266b-4cd6-d8a0-d1a186ca8162"
      },
      "outputs": [
        {
          "output_type": "display_data",
          "data": {
            "text/plain": "\u001b[1mModel: \"sequential_3\"\u001b[0m\n",
            "text/html": "<pre style=\"white-space:pre;overflow-x:auto;line-height:normal;font-family:Menlo,'DejaVu Sans Mono',consolas,'Courier New',monospace\"><span style=\"font-weight: bold\">Model: \"sequential_3\"</span>\n</pre>\n"
          },
          "metadata": {}
        },
        {
          "output_type": "display_data",
          "data": {
            "text/plain": "┏━━━━━━━━━━━━━━━━━━━━━━━━━━━━━━━━━┳━━━━━━━━━━━━━━━━━━━━━━━━┳━━━━━━━━━━━━━━━┓\n┃\u001b[1m \u001b[0m\u001b[1mLayer (type)                   \u001b[0m\u001b[1m \u001b[0m┃\u001b[1m \u001b[0m\u001b[1mOutput Shape          \u001b[0m\u001b[1m \u001b[0m┃\u001b[1m \u001b[0m\u001b[1m      Param #\u001b[0m\u001b[1m \u001b[0m┃\n┡━━━━━━━━━━━━━━━━━━━━━━━━━━━━━━━━━╇━━━━━━━━━━━━━━━━━━━━━━━━╇━━━━━━━━━━━━━━━┩\n│ mobilenetv2_1.00_224            │ ?                      │     \u001b[38;5;34m2,257,984\u001b[0m │\n│ (\u001b[38;5;33mFunctional\u001b[0m)                    │                        │               │\n├─────────────────────────────────┼────────────────────────┼───────────────┤\n│ flatten_3 (\u001b[38;5;33mFlatten\u001b[0m)             │ ?                      │   \u001b[38;5;34m0\u001b[0m (unbuilt) │\n├─────────────────────────────────┼────────────────────────┼───────────────┤\n│ dense_11 (\u001b[38;5;33mDense\u001b[0m)                │ ?                      │   \u001b[38;5;34m0\u001b[0m (unbuilt) │\n├─────────────────────────────────┼────────────────────────┼───────────────┤\n│ dense_12 (\u001b[38;5;33mDense\u001b[0m)                │ ?                      │   \u001b[38;5;34m0\u001b[0m (unbuilt) │\n├─────────────────────────────────┼────────────────────────┼───────────────┤\n│ dense_13 (\u001b[38;5;33mDense\u001b[0m)                │ ?                      │   \u001b[38;5;34m0\u001b[0m (unbuilt) │\n├─────────────────────────────────┼────────────────────────┼───────────────┤\n│ dense_14 (\u001b[38;5;33mDense\u001b[0m)                │ ?                      │   \u001b[38;5;34m0\u001b[0m (unbuilt) │\n└─────────────────────────────────┴────────────────────────┴───────────────┘\n",
            "text/html": "<pre style=\"white-space:pre;overflow-x:auto;line-height:normal;font-family:Menlo,'DejaVu Sans Mono',consolas,'Courier New',monospace\">┏━━━━━━━━━━━━━━━━━━━━━━━━━━━━━━━━━┳━━━━━━━━━━━━━━━━━━━━━━━━┳━━━━━━━━━━━━━━━┓\n┃<span style=\"font-weight: bold\"> Layer (type)                    </span>┃<span style=\"font-weight: bold\"> Output Shape           </span>┃<span style=\"font-weight: bold\">       Param # </span>┃\n┡━━━━━━━━━━━━━━━━━━━━━━━━━━━━━━━━━╇━━━━━━━━━━━━━━━━━━━━━━━━╇━━━━━━━━━━━━━━━┩\n│ mobilenetv2_1.00_224            │ ?                      │     <span style=\"color: #00af00; text-decoration-color: #00af00\">2,257,984</span> │\n│ (<span style=\"color: #0087ff; text-decoration-color: #0087ff\">Functional</span>)                    │                        │               │\n├─────────────────────────────────┼────────────────────────┼───────────────┤\n│ flatten_3 (<span style=\"color: #0087ff; text-decoration-color: #0087ff\">Flatten</span>)             │ ?                      │   <span style=\"color: #00af00; text-decoration-color: #00af00\">0</span> (unbuilt) │\n├─────────────────────────────────┼────────────────────────┼───────────────┤\n│ dense_11 (<span style=\"color: #0087ff; text-decoration-color: #0087ff\">Dense</span>)                │ ?                      │   <span style=\"color: #00af00; text-decoration-color: #00af00\">0</span> (unbuilt) │\n├─────────────────────────────────┼────────────────────────┼───────────────┤\n│ dense_12 (<span style=\"color: #0087ff; text-decoration-color: #0087ff\">Dense</span>)                │ ?                      │   <span style=\"color: #00af00; text-decoration-color: #00af00\">0</span> (unbuilt) │\n├─────────────────────────────────┼────────────────────────┼───────────────┤\n│ dense_13 (<span style=\"color: #0087ff; text-decoration-color: #0087ff\">Dense</span>)                │ ?                      │   <span style=\"color: #00af00; text-decoration-color: #00af00\">0</span> (unbuilt) │\n├─────────────────────────────────┼────────────────────────┼───────────────┤\n│ dense_14 (<span style=\"color: #0087ff; text-decoration-color: #0087ff\">Dense</span>)                │ ?                      │   <span style=\"color: #00af00; text-decoration-color: #00af00\">0</span> (unbuilt) │\n└─────────────────────────────────┴────────────────────────┴───────────────┘\n</pre>\n"
          },
          "metadata": {}
        },
        {
          "output_type": "display_data",
          "data": {
            "text/plain": "\u001b[1m Total params: \u001b[0m\u001b[38;5;34m2,257,984\u001b[0m (8.61 MB)\n",
            "text/html": "<pre style=\"white-space:pre;overflow-x:auto;line-height:normal;font-family:Menlo,'DejaVu Sans Mono',consolas,'Courier New',monospace\"><span style=\"font-weight: bold\"> Total params: </span><span style=\"color: #00af00; text-decoration-color: #00af00\">2,257,984</span> (8.61 MB)\n</pre>\n"
          },
          "metadata": {}
        },
        {
          "output_type": "display_data",
          "data": {
            "text/plain": "\u001b[1m Trainable params: \u001b[0m\u001b[38;5;34m2,223,872\u001b[0m (8.48 MB)\n",
            "text/html": "<pre style=\"white-space:pre;overflow-x:auto;line-height:normal;font-family:Menlo,'DejaVu Sans Mono',consolas,'Courier New',monospace\"><span style=\"font-weight: bold\"> Trainable params: </span><span style=\"color: #00af00; text-decoration-color: #00af00\">2,223,872</span> (8.48 MB)\n</pre>\n"
          },
          "metadata": {}
        },
        {
          "output_type": "display_data",
          "data": {
            "text/plain": "\u001b[1m Non-trainable params: \u001b[0m\u001b[38;5;34m34,112\u001b[0m (133.25 KB)\n",
            "text/html": "<pre style=\"white-space:pre;overflow-x:auto;line-height:normal;font-family:Menlo,'DejaVu Sans Mono',consolas,'Courier New',monospace\"><span style=\"font-weight: bold\"> Non-trainable params: </span><span style=\"color: #00af00; text-decoration-color: #00af00\">34,112</span> (133.25 KB)\n</pre>\n"
          },
          "metadata": {}
        }
      ],
      "execution_count": null
    },
    {
      "cell_type": "code",
      "source": [
        "def compile_and_fit(model):\n",
        "    model.compile(optimizer='adam',\n",
        "      loss=tf.losses.SparseCategoricalCrossentropy(),\n",
        "      metrics=['accuracy'])\n",
        "    history = model.fit(\n",
        "      DS_TRAIN,\n",
        "      validation_data=DS_VALID,\n",
        "      epochs=MAX_EPOCHS\n",
        "    )\n",
        "    return history"
      ],
      "metadata": {
        "trusted": true,
        "execution": {
          "iopub.status.busy": "2024-12-02T04:26:28.823670Z",
          "iopub.execute_input": "2024-12-02T04:26:28.823943Z",
          "iopub.status.idle": "2024-12-02T04:26:28.828318Z",
          "shell.execute_reply.started": "2024-12-02T04:26:28.823917Z",
          "shell.execute_reply": "2024-12-02T04:26:28.827511Z"
        },
        "id": "eEMVspmYsgZF"
      },
      "outputs": [],
      "execution_count": null
    },
    {
      "cell_type": "code",
      "source": [
        "VGG16_HISTORY = compile_and_fit(VGG16_MODEL)"
      ],
      "metadata": {
        "trusted": true,
        "execution": {
          "iopub.status.busy": "2024-12-02T04:26:28.829185Z",
          "iopub.execute_input": "2024-12-02T04:26:28.829421Z",
          "iopub.status.idle": "2024-12-02T04:34:22.585006Z",
          "shell.execute_reply.started": "2024-12-02T04:26:28.829396Z",
          "shell.execute_reply": "2024-12-02T04:34:22.583979Z"
        },
        "id": "D9OqdrgTsgZF",
        "outputId": "5fb279c6-d43f-4955-d744-b4b707e57006"
      },
      "outputs": [
        {
          "name": "stdout",
          "text": "Epoch 1/15\n",
          "output_type": "stream"
        },
        {
          "name": "stderr",
          "text": "WARNING: All log messages before absl::InitializeLog() is called are written to STDERR\nI0000 00:00:1733113593.664121     116 service.cc:145] XLA service 0x7dc28c003380 initialized for platform CUDA (this does not guarantee that XLA will be used). Devices:\nI0000 00:00:1733113593.664188     116 service.cc:153]   StreamExecutor device (0): Tesla P100-PCIE-16GB, Compute Capability 6.0\nWARNING: All log messages before absl::InitializeLog() is called are written to STDERR\nI0000 00:00:1733113619.600984     116 asm_compiler.cc:369] ptxas warning : Registers are spilled to local memory in function 'loop_add_subtract_fusion_10', 4 bytes spill stores, 12 bytes spill loads\nptxas warning : Registers are spilled to local memory in function 'loop_add_subtract_fusion_9', 4 bytes spill stores, 12 bytes spill loads\nptxas warning : Registers are spilled to local memory in function 'loop_add_subtract_fusion_8', 4 bytes spill stores, 12 bytes spill loads\n\nI0000 00:00:1733113619.607717     116 device_compiler.h:188] Compiled cluster using XLA!  This line is logged at most once for the lifetime of the process.\n",
          "output_type": "stream"
        },
        {
          "name": "stdout",
          "text": "\u001b[1m105/105\u001b[0m \u001b[32m━━━━━━━━━━━━━━━━━━━━\u001b[0m\u001b[37m\u001b[0m \u001b[1m65s\u001b[0m 332ms/step - accuracy: 0.7278 - loss: 44.9249 - val_accuracy: 0.8595 - val_loss: 0.3116\nEpoch 2/15\n\u001b[1m105/105\u001b[0m \u001b[32m━━━━━━━━━━━━━━━━━━━━\u001b[0m\u001b[37m\u001b[0m \u001b[1m49s\u001b[0m 264ms/step - accuracy: 0.8378 - loss: 0.3808 - val_accuracy: 0.8226 - val_loss: 0.3486\nEpoch 3/15\n\u001b[1m105/105\u001b[0m \u001b[32m━━━━━━━━━━━━━━━━━━━━\u001b[0m\u001b[37m\u001b[0m \u001b[1m28s\u001b[0m 264ms/step - accuracy: 0.8136 - loss: 0.4811 - val_accuracy: 0.8821 - val_loss: 0.2777\nEpoch 4/15\n\u001b[1m105/105\u001b[0m \u001b[32m━━━━━━━━━━━━━━━━━━━━\u001b[0m\u001b[37m\u001b[0m \u001b[1m28s\u001b[0m 264ms/step - accuracy: 0.8210 - loss: 0.4749 - val_accuracy: 0.8250 - val_loss: 0.4911\nEpoch 5/15\n\u001b[1m105/105\u001b[0m \u001b[32m━━━━━━━━━━━━━━━━━━━━\u001b[0m\u001b[37m\u001b[0m \u001b[1m28s\u001b[0m 264ms/step - accuracy: 0.8082 - loss: 0.9238 - val_accuracy: 0.8250 - val_loss: 0.3251\nEpoch 6/15\n\u001b[1m105/105\u001b[0m \u001b[32m━━━━━━━━━━━━━━━━━━━━\u001b[0m\u001b[37m\u001b[0m \u001b[1m28s\u001b[0m 264ms/step - accuracy: 0.8212 - loss: 0.3861 - val_accuracy: 0.8619 - val_loss: 0.2958\nEpoch 7/15\n\u001b[1m105/105\u001b[0m \u001b[32m━━━━━━━━━━━━━━━━━━━━\u001b[0m\u001b[37m\u001b[0m \u001b[1m28s\u001b[0m 264ms/step - accuracy: 0.8427 - loss: 0.3245 - val_accuracy: 0.9286 - val_loss: 0.1947\nEpoch 8/15\n\u001b[1m105/105\u001b[0m \u001b[32m━━━━━━━━━━━━━━━━━━━━\u001b[0m\u001b[37m\u001b[0m \u001b[1m28s\u001b[0m 264ms/step - accuracy: 0.9089 - loss: 0.2654 - val_accuracy: 0.8869 - val_loss: 0.3123\nEpoch 9/15\n\u001b[1m105/105\u001b[0m \u001b[32m━━━━━━━━━━━━━━━━━━━━\u001b[0m\u001b[37m\u001b[0m \u001b[1m28s\u001b[0m 264ms/step - accuracy: 0.8363 - loss: 0.4945 - val_accuracy: 0.8250 - val_loss: 0.4881\nEpoch 10/15\n\u001b[1m105/105\u001b[0m \u001b[32m━━━━━━━━━━━━━━━━━━━━\u001b[0m\u001b[37m\u001b[0m \u001b[1m28s\u001b[0m 263ms/step - accuracy: 0.8181 - loss: 0.4781 - val_accuracy: 0.8250 - val_loss: 0.4643\nEpoch 11/15\n\u001b[1m105/105\u001b[0m \u001b[32m━━━━━━━━━━━━━━━━━━━━\u001b[0m\u001b[37m\u001b[0m \u001b[1m28s\u001b[0m 263ms/step - accuracy: 0.8181 - loss: 0.4757 - val_accuracy: 0.8250 - val_loss: 0.4649\nEpoch 12/15\n\u001b[1m105/105\u001b[0m \u001b[32m━━━━━━━━━━━━━━━━━━━━\u001b[0m\u001b[37m\u001b[0m \u001b[1m28s\u001b[0m 263ms/step - accuracy: 0.8181 - loss: 0.4764 - val_accuracy: 0.8250 - val_loss: 0.4651\nEpoch 13/15\n\u001b[1m105/105\u001b[0m \u001b[32m━━━━━━━━━━━━━━━━━━━━\u001b[0m\u001b[37m\u001b[0m \u001b[1m28s\u001b[0m 263ms/step - accuracy: 0.8181 - loss: 0.4766 - val_accuracy: 0.8250 - val_loss: 0.4652\nEpoch 14/15\n\u001b[1m105/105\u001b[0m \u001b[32m━━━━━━━━━━━━━━━━━━━━\u001b[0m\u001b[37m\u001b[0m \u001b[1m28s\u001b[0m 263ms/step - accuracy: 0.8181 - loss: 0.4766 - val_accuracy: 0.8250 - val_loss: 0.4652\nEpoch 15/15\n\u001b[1m105/105\u001b[0m \u001b[32m━━━━━━━━━━━━━━━━━━━━\u001b[0m\u001b[37m\u001b[0m \u001b[1m28s\u001b[0m 263ms/step - accuracy: 0.8181 - loss: 0.4766 - val_accuracy: 0.8250 - val_loss: 0.4651\n",
          "output_type": "stream"
        }
      ],
      "execution_count": null
    },
    {
      "cell_type": "code",
      "source": [
        "RESNET50_HISTORY = compile_and_fit(RESNET50_MODEL)"
      ],
      "metadata": {
        "trusted": true,
        "execution": {
          "iopub.status.busy": "2024-12-02T04:34:22.586206Z",
          "iopub.execute_input": "2024-12-02T04:34:22.586541Z",
          "iopub.status.idle": "2024-12-02T04:40:30.069127Z",
          "shell.execute_reply.started": "2024-12-02T04:34:22.586512Z",
          "shell.execute_reply": "2024-12-02T04:40:30.068315Z"
        },
        "id": "BsN5TuSUsgZF",
        "outputId": "5b8f1a06-9338-4545-cbf7-ce1c9c61fc8c"
      },
      "outputs": [
        {
          "name": "stdout",
          "text": "Epoch 1/15\n",
          "output_type": "stream"
        },
        {
          "name": "stderr",
          "text": "I0000 00:00:1733114120.844520     113 asm_compiler.cc:369] ptxas warning : Registers are spilled to local memory in function 'loop_add_subtract_fusion_11', 4 bytes spill stores, 12 bytes spill loads\nptxas warning : Registers are spilled to local memory in function 'loop_add_subtract_fusion_5', 4 bytes spill stores, 12 bytes spill loads\nptxas warning : Registers are spilled to local memory in function 'loop_add_subtract_fusion_23', 36 bytes spill stores, 56 bytes spill loads\nptxas warning : Registers are spilled to local memory in function '__cuda_sm3x_div_rn_noftz_f32_slowpath', 4 bytes spill stores, 4 bytes spill loads\nptxas warning : Registers are spilled to local memory in function 'loop_add_divide_multiply_subtract_fusion_66', 4 bytes spill stores, 4 bytes spill loads\nptxas warning : Registers are spilled to local memory in function 'loop_add_divide_multiply_subtract_fusion_53', 4 bytes spill stores, 4 bytes spill loads\n\n",
          "output_type": "stream"
        },
        {
          "name": "stdout",
          "text": "\u001b[1m105/105\u001b[0m \u001b[32m━━━━━━━━━━━━━━━━━━━━\u001b[0m\u001b[37m\u001b[0m \u001b[1m84s\u001b[0m 245ms/step - accuracy: 0.8707 - loss: 5.4508 - val_accuracy: 0.8250 - val_loss: 406066364416.0000\nEpoch 2/15\n\u001b[1m105/105\u001b[0m \u001b[32m━━━━━━━━━━━━━━━━━━━━\u001b[0m\u001b[37m\u001b[0m \u001b[1m20s\u001b[0m 193ms/step - accuracy: 0.8539 - loss: 4.2951 - val_accuracy: 0.8655 - val_loss: 4.2008\nEpoch 3/15\n\u001b[1m105/105\u001b[0m \u001b[32m━━━━━━━━━━━━━━━━━━━━\u001b[0m\u001b[37m\u001b[0m \u001b[1m20s\u001b[0m 193ms/step - accuracy: 0.9332 - loss: 0.2353 - val_accuracy: 0.9512 - val_loss: 0.1298\nEpoch 4/15\n\u001b[1m105/105\u001b[0m \u001b[32m━━━━━━━━━━━━━━━━━━━━\u001b[0m\u001b[37m\u001b[0m \u001b[1m20s\u001b[0m 193ms/step - accuracy: 0.9517 - loss: 0.1308 - val_accuracy: 0.9655 - val_loss: 0.0953\nEpoch 5/15\n\u001b[1m105/105\u001b[0m \u001b[32m━━━━━━━━━━━━━━━━━━━━\u001b[0m\u001b[37m\u001b[0m \u001b[1m20s\u001b[0m 193ms/step - accuracy: 0.9668 - loss: 0.0989 - val_accuracy: 0.9536 - val_loss: 0.1207\nEpoch 6/15\n\u001b[1m105/105\u001b[0m \u001b[32m━━━━━━━━━━━━━━━━━━━━\u001b[0m\u001b[37m\u001b[0m \u001b[1m20s\u001b[0m 193ms/step - accuracy: 0.9731 - loss: 0.0750 - val_accuracy: 0.9702 - val_loss: 0.0963\nEpoch 7/15\n\u001b[1m105/105\u001b[0m \u001b[32m━━━━━━━━━━━━━━━━━━━━\u001b[0m\u001b[37m\u001b[0m \u001b[1m20s\u001b[0m 193ms/step - accuracy: 0.9762 - loss: 0.0580 - val_accuracy: 0.9667 - val_loss: 0.1124\nEpoch 8/15\n\u001b[1m105/105\u001b[0m \u001b[32m━━━━━━━━━━━━━━━━━━━━\u001b[0m\u001b[37m\u001b[0m \u001b[1m20s\u001b[0m 193ms/step - accuracy: 0.9722 - loss: 0.0581 - val_accuracy: 0.9619 - val_loss: 0.1316\nEpoch 9/15\n\u001b[1m105/105\u001b[0m \u001b[32m━━━━━━━━━━━━━━━━━━━━\u001b[0m\u001b[37m\u001b[0m \u001b[1m20s\u001b[0m 193ms/step - accuracy: 0.9769 - loss: 0.0601 - val_accuracy: 0.9714 - val_loss: 0.0790\nEpoch 10/15\n\u001b[1m105/105\u001b[0m \u001b[32m━━━━━━━━━━━━━━━━━━━━\u001b[0m\u001b[37m\u001b[0m \u001b[1m20s\u001b[0m 193ms/step - accuracy: 0.9841 - loss: 0.0393 - val_accuracy: 0.9631 - val_loss: 0.1078\nEpoch 11/15\n\u001b[1m105/105\u001b[0m \u001b[32m━━━━━━━━━━━━━━━━━━━━\u001b[0m\u001b[37m\u001b[0m \u001b[1m20s\u001b[0m 193ms/step - accuracy: 0.9822 - loss: 0.0416 - val_accuracy: 0.9702 - val_loss: 0.1111\nEpoch 12/15\n\u001b[1m105/105\u001b[0m \u001b[32m━━━━━━━━━━━━━━━━━━━━\u001b[0m\u001b[37m\u001b[0m \u001b[1m20s\u001b[0m 193ms/step - accuracy: 0.9889 - loss: 0.0303 - val_accuracy: 0.9690 - val_loss: 0.0986\nEpoch 13/15\n\u001b[1m105/105\u001b[0m \u001b[32m━━━━━━━━━━━━━━━━━━━━\u001b[0m\u001b[37m\u001b[0m \u001b[1m20s\u001b[0m 193ms/step - accuracy: 0.9866 - loss: 0.0307 - val_accuracy: 0.9738 - val_loss: 0.0849\nEpoch 14/15\n\u001b[1m105/105\u001b[0m \u001b[32m━━━━━━━━━━━━━━━━━━━━\u001b[0m\u001b[37m\u001b[0m \u001b[1m20s\u001b[0m 193ms/step - accuracy: 0.9930 - loss: 0.0350 - val_accuracy: 0.9714 - val_loss: 0.0965\nEpoch 15/15\n\u001b[1m105/105\u001b[0m \u001b[32m━━━━━━━━━━━━━━━━━━━━\u001b[0m\u001b[37m\u001b[0m \u001b[1m20s\u001b[0m 193ms/step - accuracy: 0.9942 - loss: 0.0126 - val_accuracy: 0.9631 - val_loss: 0.2880\n",
          "output_type": "stream"
        }
      ],
      "execution_count": null
    },
    {
      "cell_type": "code",
      "source": [
        "MOBILENETv2_HISTORY = compile_and_fit(MOBILENETv2_MODEL)"
      ],
      "metadata": {
        "trusted": true,
        "execution": {
          "iopub.status.busy": "2024-12-02T04:40:30.070408Z",
          "iopub.execute_input": "2024-12-02T04:40:30.071097Z",
          "iopub.status.idle": "2024-12-02T04:43:56.754711Z",
          "shell.execute_reply.started": "2024-12-02T04:40:30.071053Z",
          "shell.execute_reply": "2024-12-02T04:43:56.753716Z"
        },
        "id": "c2TPTQlcsgZG",
        "outputId": "c27d70ee-b774-4699-e28c-761a4f81176e"
      },
      "outputs": [
        {
          "name": "stdout",
          "text": "Epoch 1/15\n\u001b[1m105/105\u001b[0m \u001b[32m━━━━━━━━━━━━━━━━━━━━\u001b[0m\u001b[37m\u001b[0m \u001b[1m60s\u001b[0m 147ms/step - accuracy: 0.9129 - loss: 1.2878 - val_accuracy: 0.7750 - val_loss: 5.5340\nEpoch 2/15\n\u001b[1m105/105\u001b[0m \u001b[32m━━━━━━━━━━━━━━━━━━━━\u001b[0m\u001b[37m\u001b[0m \u001b[1m10s\u001b[0m 100ms/step - accuracy: 0.9955 - loss: 0.0168 - val_accuracy: 0.8893 - val_loss: 6.2112\nEpoch 3/15\n\u001b[1m105/105\u001b[0m \u001b[32m━━━━━━━━━━━━━━━━━━━━\u001b[0m\u001b[37m\u001b[0m \u001b[1m10s\u001b[0m 100ms/step - accuracy: 0.9979 - loss: 0.0111 - val_accuracy: 0.9333 - val_loss: 1.8054\nEpoch 4/15\n\u001b[1m105/105\u001b[0m \u001b[32m━━━━━━━━━━━━━━━━━━━━\u001b[0m\u001b[37m\u001b[0m \u001b[1m10s\u001b[0m 100ms/step - accuracy: 0.9999 - loss: 0.0017 - val_accuracy: 0.9726 - val_loss: 0.8190\nEpoch 5/15\n\u001b[1m105/105\u001b[0m \u001b[32m━━━━━━━━━━━━━━━━━━━━\u001b[0m\u001b[37m\u001b[0m \u001b[1m10s\u001b[0m 99ms/step - accuracy: 0.9969 - loss: 0.0158 - val_accuracy: 0.9393 - val_loss: 5.0365\nEpoch 6/15\n\u001b[1m105/105\u001b[0m \u001b[32m━━━━━━━━━━━━━━━━━━━━\u001b[0m\u001b[37m\u001b[0m \u001b[1m10s\u001b[0m 100ms/step - accuracy: 0.9979 - loss: 0.0121 - val_accuracy: 0.8250 - val_loss: 32.2106\nEpoch 7/15\n\u001b[1m105/105\u001b[0m \u001b[32m━━━━━━━━━━━━━━━━━━━━\u001b[0m\u001b[37m\u001b[0m \u001b[1m10s\u001b[0m 100ms/step - accuracy: 0.9901 - loss: 0.0669 - val_accuracy: 0.8262 - val_loss: 42.5983\nEpoch 8/15\n\u001b[1m105/105\u001b[0m \u001b[32m━━━━━━━━━━━━━━━━━━━━\u001b[0m\u001b[37m\u001b[0m \u001b[1m10s\u001b[0m 100ms/step - accuracy: 0.9988 - loss: 0.0042 - val_accuracy: 0.8429 - val_loss: 25.7395\nEpoch 9/15\n\u001b[1m105/105\u001b[0m \u001b[32m━━━━━━━━━━━━━━━━━━━━\u001b[0m\u001b[37m\u001b[0m \u001b[1m10s\u001b[0m 100ms/step - accuracy: 0.9923 - loss: 0.0349 - val_accuracy: 0.8631 - val_loss: 32.9744\nEpoch 10/15\n\u001b[1m105/105\u001b[0m \u001b[32m━━━━━━━━━━━━━━━━━━━━\u001b[0m\u001b[37m\u001b[0m \u001b[1m10s\u001b[0m 100ms/step - accuracy: 0.9951 - loss: 0.0232 - val_accuracy: 0.9143 - val_loss: 44.2364\nEpoch 11/15\n\u001b[1m105/105\u001b[0m \u001b[32m━━━━━━━━━━━━━━━━━━━━\u001b[0m\u001b[37m\u001b[0m \u001b[1m10s\u001b[0m 100ms/step - accuracy: 0.9991 - loss: 0.0023 - val_accuracy: 0.9214 - val_loss: 34.6693\nEpoch 12/15\n\u001b[1m105/105\u001b[0m \u001b[32m━━━━━━━━━━━━━━━━━━━━\u001b[0m\u001b[37m\u001b[0m \u001b[1m10s\u001b[0m 100ms/step - accuracy: 1.0000 - loss: 2.1807e-04 - val_accuracy: 0.9345 - val_loss: 21.2456\nEpoch 13/15\n\u001b[1m105/105\u001b[0m \u001b[32m━━━━━━━━━━━━━━━━━━━━\u001b[0m\u001b[37m\u001b[0m \u001b[1m10s\u001b[0m 100ms/step - accuracy: 1.0000 - loss: 2.0896e-06 - val_accuracy: 0.9452 - val_loss: 10.5055\nEpoch 14/15\n\u001b[1m105/105\u001b[0m \u001b[32m━━━━━━━━━━━━━━━━━━━━\u001b[0m\u001b[37m\u001b[0m \u001b[1m10s\u001b[0m 100ms/step - accuracy: 1.0000 - loss: 1.4690e-06 - val_accuracy: 0.9607 - val_loss: 4.7851\nEpoch 15/15\n\u001b[1m105/105\u001b[0m \u001b[32m━━━━━━━━━━━━━━━━━━━━\u001b[0m\u001b[37m\u001b[0m \u001b[1m11s\u001b[0m 100ms/step - accuracy: 1.0000 - loss: 1.1510e-06 - val_accuracy: 0.9762 - val_loss: 2.6926\n",
          "output_type": "stream"
        }
      ],
      "execution_count": null
    },
    {
      "cell_type": "markdown",
      "source": [
        "# Model Evaluation"
      ],
      "metadata": {
        "id": "txaUHFfmsgZG"
      }
    },
    {
      "cell_type": "code",
      "source": [
        "df_VGG16_HISTORY = pd.DataFrame(VGG16_HISTORY.history)\n",
        "df_RESNET50_HISTORY = pd.DataFrame(RESNET50_HISTORY.history)\n",
        "df_MOBILENETv2_HISTORY = pd.DataFrame(MOBILENETv2_HISTORY.history)"
      ],
      "metadata": {
        "trusted": true,
        "execution": {
          "iopub.status.busy": "2024-12-02T04:43:56.756127Z",
          "iopub.execute_input": "2024-12-02T04:43:56.757066Z",
          "iopub.status.idle": "2024-12-02T04:43:56.765628Z",
          "shell.execute_reply.started": "2024-12-02T04:43:56.757018Z",
          "shell.execute_reply": "2024-12-02T04:43:56.764657Z"
        },
        "id": "-nmMKgMHsgZG"
      },
      "outputs": [],
      "execution_count": null
    },
    {
      "cell_type": "code",
      "source": [
        "df_history = df_VGG16_HISTORY.merge(df_RESNET50_HISTORY, how='inner', left_index=True, right_index=True, suffixes=('_VGG16', '_RESNET50'))\n",
        "df_history = df_history.merge(df_MOBILENETv2_HISTORY, how='inner', left_index=True, right_index=True)\n",
        "df_history = df_history.rename(columns={\"loss\"          : \"loss_MOBILENETv2\",\n",
        "                                        \"accuracy\"      : \"accuracy_MOBILENETv2\",\n",
        "                                        \"val_loss\"      : \"val_loss_MOBILENETv2\",\n",
        "                                        \"val_accuracy\"  : \"val_accuracy_MOBILENETv2\"})"
      ],
      "metadata": {
        "trusted": true,
        "execution": {
          "iopub.status.busy": "2024-12-02T04:43:56.766877Z",
          "iopub.execute_input": "2024-12-02T04:43:56.767524Z",
          "iopub.status.idle": "2024-12-02T04:43:56.786987Z",
          "shell.execute_reply.started": "2024-12-02T04:43:56.767471Z",
          "shell.execute_reply": "2024-12-02T04:43:56.786017Z"
        },
        "id": "aVmIjA-msgZH"
      },
      "outputs": [],
      "execution_count": null
    },
    {
      "cell_type": "code",
      "source": [
        "his = df_history.filter(regex='^accuracy_',axis=1).reset_index()\n",
        "his.columns = [\"Epoch\", \"VGG16\", \"ResNet50\", \"MobileNetv2\"]\n",
        "his = his.melt('Epoch', var_name='Algorithm', value_name='Value')\n",
        "sns.catplot(x=\"Epoch\", y=\"Value\", hue='Algorithm', data=his, kind='point')\n"
      ],
      "metadata": {
        "trusted": true,
        "execution": {
          "iopub.status.busy": "2024-12-02T04:43:56.788354Z",
          "iopub.execute_input": "2024-12-02T04:43:56.788706Z",
          "iopub.status.idle": "2024-12-02T04:43:57.607408Z",
          "shell.execute_reply.started": "2024-12-02T04:43:56.788677Z",
          "shell.execute_reply": "2024-12-02T04:43:57.606539Z"
        },
        "id": "8sOU_2xjsgZH",
        "outputId": "e39e1b5c-b2fd-46bf-b61d-957c52e3014e"
      },
      "outputs": [
        {
          "execution_count": 20,
          "output_type": "execute_result",
          "data": {
            "text/plain": "<seaborn.axisgrid.FacetGrid at 0x7dbe22ae83d0>"
          },
          "metadata": {}
        },
        {
          "output_type": "display_data",
          "data": {
            "text/plain": "<Figure size 637x500 with 1 Axes>",
            "image/png": "[encoded data removed]"
          },
          "metadata": {}
        }
      ],
      "execution_count": null
    },
    {
      "cell_type": "code",
      "source": [
        "his = df_history.filter(regex='^loss_',axis=1).reset_index()\n",
        "his.columns = [\"Epoch\", \"VGG16\", \"ResNet50\", \"MobileNetv2\"]\n",
        "his = his.melt('Epoch', var_name='Algorithm', value_name='Value')\n",
        "sns.catplot(x=\"Epoch\", y=\"Value\", hue='Algorithm', data=his, kind='point')"
      ],
      "metadata": {
        "trusted": true,
        "execution": {
          "iopub.status.busy": "2024-12-02T04:43:57.608841Z",
          "iopub.execute_input": "2024-12-02T04:43:57.609602Z",
          "iopub.status.idle": "2024-12-02T04:43:58.371567Z",
          "shell.execute_reply.started": "2024-12-02T04:43:57.609555Z",
          "shell.execute_reply": "2024-12-02T04:43:58.370503Z"
        },
        "id": "AbeTD9XysgZH",
        "outputId": "1a927044-d6b7-4f1f-9a8b-150e4414602c"
      },
      "outputs": [
        {
          "execution_count": 21,
          "output_type": "execute_result",
          "data": {
            "text/plain": "<seaborn.axisgrid.FacetGrid at 0x7dbe72b5a4a0>"
          },
          "metadata": {}
        },
        {
          "output_type": "display_data",
          "data": {
            "text/plain": "<Figure size 637x500 with 1 Axes>",
            "image/png": "[encoded data removed]"
          },
          "metadata": {}
        }
      ],
      "execution_count": null
    },
    {
      "cell_type": "code",
      "source": [
        "his = df_history.filter(regex='^val_loss_',axis=1).reset_index()\n",
        "his.columns = [\"Epoch\", \"VGG16\", \"ResNet50\", \"MobileNetv2\"]\n",
        "his = his.melt('Epoch', var_name='Algorithm', value_name='Value')\n",
        "sns.catplot(x=\"Epoch\", y=\"Value\", hue='Algorithm', data=his, kind='point')"
      ],
      "metadata": {
        "trusted": true,
        "execution": {
          "iopub.status.busy": "2024-12-02T04:43:58.372763Z",
          "iopub.execute_input": "2024-12-02T04:43:58.373062Z",
          "iopub.status.idle": "2024-12-02T04:43:59.160143Z",
          "shell.execute_reply.started": "2024-12-02T04:43:58.373031Z",
          "shell.execute_reply": "2024-12-02T04:43:59.159213Z"
        },
        "id": "bSUOWQa5sgZI",
        "outputId": "e182f885-44bb-4eb2-a4f9-c36cd648e7cf"
      },
      "outputs": [
        {
          "execution_count": 22,
          "output_type": "execute_result",
          "data": {
            "text/plain": "<seaborn.axisgrid.FacetGrid at 0x7dbea2325cf0>"
          },
          "metadata": {}
        },
        {
          "output_type": "display_data",
          "data": {
            "text/plain": "<Figure size 637x500 with 1 Axes>",
            "image/png": "[encoded data removed]"
          },
          "metadata": {}
        }
      ],
      "execution_count": null
    },
    {
      "cell_type": "code",
      "source": [
        "import numpy as np\n",
        "import matplotlib.pyplot as plt\n",
        "from sklearn.metrics import classification_report, confusion_matrix, ConfusionMatrixDisplay, f1_score\n",
        "\n",
        "# Evaluate the model and get predictions\n",
        "y_true = []  # Ground truth labels\n",
        "y_pred = []  # Predicted labels\n",
        "\n",
        "for images, labels in DS_VALID:\n",
        "    y_true.extend(labels.numpy())  # Add ground truth labels\n",
        "    predictions = MOBILENETv2_MODEL.predict(images)\n",
        "    y_pred.extend(np.argmax(predictions, axis=1))  # Add predicted labels\n",
        "\n",
        "# Calculate F1 score\n",
        "f1 = f1_score(y_true, y_pred, average='weighted')\n",
        "print(f\"Weighted F1 Score: {f1:.2f}\")\n",
        "\n",
        "# Generate confusion matrix\n",
        "cm = confusion_matrix(y_true, y_pred)\n",
        "\n",
        "# Plot confusion matrix with integer labels\n",
        "disp = ConfusionMatrixDisplay(confusion_matrix=cm, display_labels=range(cm.shape[0]))\n",
        "disp.plot(cmap=plt.cm.Blues)\n",
        "plt.title('Confusion Matrix')\n",
        "plt.show()\n"
      ],
      "metadata": {
        "trusted": true,
        "execution": {
          "iopub.status.busy": "2024-12-02T04:55:24.283586Z",
          "iopub.execute_input": "2024-12-02T04:55:24.284370Z",
          "iopub.status.idle": "2024-12-02T04:55:26.906349Z",
          "shell.execute_reply.started": "2024-12-02T04:55:24.284315Z",
          "shell.execute_reply": "2024-12-02T04:55:26.905437Z"
        },
        "id": "OGrTDcYSsgZI",
        "outputId": "73e97455-a004-4e93-c7ce-d74534c79137"
      },
      "outputs": [
        {
          "name": "stdout",
          "text": "\u001b[1m1/1\u001b[0m \u001b[32m━━━━━━━━━━━━━━━━━━━━\u001b[0m\u001b[37m\u001b[0m \u001b[1m0s\u001b[0m 58ms/step\n\u001b[1m1/1\u001b[0m \u001b[32m━━━━━━━━━━━━━━━━━━━━\u001b[0m\u001b[37m\u001b[0m \u001b[1m0s\u001b[0m 35ms/step\n\u001b[1m1/1\u001b[0m \u001b[32m━━━━━━━━━━━━━━━━━━━━\u001b[0m\u001b[37m\u001b[0m \u001b[1m0s\u001b[0m 65ms/step\n\u001b[1m1/1\u001b[0m \u001b[32m━━━━━━━━━━━━━━━━━━━━\u001b[0m\u001b[37m\u001b[0m \u001b[1m0s\u001b[0m 37ms/step\n\u001b[1m1/1\u001b[0m \u001b[32m━━━━━━━━━━━━━━━━━━━━\u001b[0m\u001b[37m\u001b[0m \u001b[1m0s\u001b[0m 42ms/step\n\u001b[1m1/1\u001b[0m \u001b[32m━━━━━━━━━━━━━━━━━━━━\u001b[0m\u001b[37m\u001b[0m \u001b[1m0s\u001b[0m 33ms/step\n\u001b[1m1/1\u001b[0m \u001b[32m━━━━━━━━━━━━━━━━━━━━\u001b[0m\u001b[37m\u001b[0m \u001b[1m0s\u001b[0m 33ms/step\n\u001b[1m1/1\u001b[0m \u001b[32m━━━━━━━━━━━━━━━━━━━━\u001b[0m\u001b[37m\u001b[0m \u001b[1m0s\u001b[0m 45ms/step\n\u001b[1m1/1\u001b[0m \u001b[32m━━━━━━━━━━━━━━━━━━━━\u001b[0m\u001b[37m\u001b[0m \u001b[1m0s\u001b[0m 35ms/step\n\u001b[1m1/1\u001b[0m \u001b[32m━━━━━━━━━━━━━━━━━━━━\u001b[0m\u001b[37m\u001b[0m \u001b[1m0s\u001b[0m 51ms/step\n\u001b[1m1/1\u001b[0m \u001b[32m━━━━━━━━━━━━━━━━━━━━\u001b[0m\u001b[37m\u001b[0m \u001b[1m0s\u001b[0m 54ms/step\n\u001b[1m1/1\u001b[0m \u001b[32m━━━━━━━━━━━━━━━━━━━━\u001b[0m\u001b[37m\u001b[0m \u001b[1m0s\u001b[0m 33ms/step\n\u001b[1m1/1\u001b[0m \u001b[32m━━━━━━━━━━━━━━━━━━━━\u001b[0m\u001b[37m\u001b[0m \u001b[1m0s\u001b[0m 34ms/step\n\u001b[1m1/1\u001b[0m \u001b[32m━━━━━━━━━━━━━━━━━━━━\u001b[0m\u001b[37m\u001b[0m \u001b[1m0s\u001b[0m 35ms/step\n\u001b[1m1/1\u001b[0m \u001b[32m━━━━━━━━━━━━━━━━━━━━\u001b[0m\u001b[37m\u001b[0m \u001b[1m0s\u001b[0m 34ms/step\n\u001b[1m1/1\u001b[0m \u001b[32m━━━━━━━━━━━━━━━━━━━━\u001b[0m\u001b[37m\u001b[0m \u001b[1m0s\u001b[0m 34ms/step\n\u001b[1m1/1\u001b[0m \u001b[32m━━━━━━━━━━━━━━━━━━━━\u001b[0m\u001b[37m\u001b[0m \u001b[1m0s\u001b[0m 33ms/step\n\u001b[1m1/1\u001b[0m \u001b[32m━━━━━━━━━━━━━━━━━━━━\u001b[0m\u001b[37m\u001b[0m \u001b[1m0s\u001b[0m 49ms/step\n\u001b[1m1/1\u001b[0m \u001b[32m━━━━━━━━━━━━━━━━━━━━\u001b[0m\u001b[37m\u001b[0m \u001b[1m0s\u001b[0m 34ms/step\n\u001b[1m1/1\u001b[0m \u001b[32m━━━━━━━━━━━━━━━━━━━━\u001b[0m\u001b[37m\u001b[0m \u001b[1m0s\u001b[0m 33ms/step\n\u001b[1m1/1\u001b[0m \u001b[32m━━━━━━━━━━━━━━━━━━━━\u001b[0m\u001b[37m\u001b[0m \u001b[1m0s\u001b[0m 34ms/step\n\u001b[1m1/1\u001b[0m \u001b[32m━━━━━━━━━━━━━━━━━━━━\u001b[0m\u001b[37m\u001b[0m \u001b[1m0s\u001b[0m 31ms/step\n\u001b[1m1/1\u001b[0m \u001b[32m━━━━━━━━━━━━━━━━━━━━\u001b[0m\u001b[37m\u001b[0m \u001b[1m0s\u001b[0m 32ms/step\n\u001b[1m1/1\u001b[0m \u001b[32m━━━━━━━━━━━━━━━━━━━━\u001b[0m\u001b[37m\u001b[0m \u001b[1m0s\u001b[0m 33ms/step\n\u001b[1m1/1\u001b[0m \u001b[32m━━━━━━━━━━━━━━━━━━━━\u001b[0m\u001b[37m\u001b[0m \u001b[1m0s\u001b[0m 32ms/step\n\u001b[1m1/1\u001b[0m \u001b[32m━━━━━━━━━━━━━━━━━━━━\u001b[0m\u001b[37m\u001b[0m \u001b[1m0s\u001b[0m 31ms/step\n\u001b[1m1/1\u001b[0m \u001b[32m━━━━━━━━━━━━━━━━━━━━\u001b[0m\u001b[37m\u001b[0m \u001b[1m0s\u001b[0m 23ms/step\nWeighted F1 Score: 0.98\n",
          "output_type": "stream"
        },
        {
          "output_type": "display_data",
          "data": {
            "text/plain": "<Figure size 640x480 with 2 Axes>",
            "image/png": "[encoded data removed]"
          },
          "metadata": {}
        }
      ],
      "execution_count": null
    },
    {
      "cell_type": "markdown",
      "source": [
        "# Result evaluation\n",
        "\n",
        "1. VGG16: validation accuracy: 82\n",
        "2. ResNet50: validation accuracy: 96\n",
        "3. MobileNetV2: validation accuracy: 97\n",
        "\n",
        "# MobileNetV2 performed best\n",
        "\n",
        "F1 score: 98\n",
        "\n",
        "Limitations of MobileNetV2 here:\n",
        "\n",
        "1. Confusion matrix is not good\n",
        "2. Overfitting\n",
        "\n",
        "Reason:\n",
        "\n",
        "1. Less data"
      ],
      "metadata": {
        "id": "5-neh9M9sgZI"
      }
    },
    {
      "cell_type": "markdown",
      "source": [
        "# Moving on BaseLine CNN model"
      ],
      "metadata": {
        "id": "3ik3V7NnsgZJ"
      }
    },
    {
      "cell_type": "markdown",
      "source": [
        "# EXP 01 CNN"
      ],
      "metadata": {
        "id": "B140_H6ZsgZJ"
      }
    },
    {
      "cell_type": "code",
      "source": [
        "import cv2 as cv\n",
        "import numpy as np\n",
        "from imblearn.over_sampling import SMOTE\n",
        "from sklearn.model_selection import train_test_split\n",
        "import os"
      ],
      "metadata": {
        "trusted": true,
        "execution": {
          "iopub.status.busy": "2024-12-02T05:01:37.369844Z",
          "iopub.execute_input": "2024-12-02T05:01:37.370190Z",
          "iopub.status.idle": "2024-12-02T05:01:37.895693Z",
          "shell.execute_reply.started": "2024-12-02T05:01:37.370159Z",
          "shell.execute_reply": "2024-12-02T05:01:37.894700Z"
        },
        "id": "NyO8_3D6sgZJ"
      },
      "outputs": [],
      "execution_count": null
    },
    {
      "cell_type": "code",
      "source": [
        "normaldir = '/kaggle/input/tuberculosis-tb-chest-xray-dataset/TB_Chest_Radiography_Database/Normal'\n",
        "tbdir = '/kaggle/input/tuberculosis-tb-chest-xray-dataset/TB_Chest_Radiography_Database/Tuberculosis'\n",
        "images = []\n",
        "labels = []\n",
        "imagesize = 256"
      ],
      "metadata": {
        "trusted": true,
        "execution": {
          "iopub.status.busy": "2024-12-02T05:01:08.744760Z",
          "iopub.execute_input": "2024-12-02T05:01:08.745552Z",
          "iopub.status.idle": "2024-12-02T05:01:08.749712Z",
          "shell.execute_reply.started": "2024-12-02T05:01:08.745518Z",
          "shell.execute_reply": "2024-12-02T05:01:08.748750Z"
        },
        "id": "xDAQswH3sgZJ"
      },
      "outputs": [],
      "execution_count": null
    },
    {
      "cell_type": "code",
      "source": [
        "for x in os.listdir(normaldir):\n",
        "    imagedir = os.path.join(normaldir, x)\n",
        "    image = cv.imread(imagedir, cv.IMREAD_GRAYSCALE)\n",
        "    image = cv.resize(image, (imagesize, imagesize))\n",
        "    images.append(image)\n",
        "    labels.append(0)\n",
        "\n",
        "for y in os.listdir(tbdir):\n",
        "    imagedir = os.path.join(tbdir, y)\n",
        "    image = cv.imread(imagedir, cv.IMREAD_GRAYSCALE)\n",
        "    image = cv.resize(image, (imagesize, imagesize))\n",
        "    images.append(image)\n",
        "    labels.append(1)"
      ],
      "metadata": {
        "trusted": true,
        "execution": {
          "iopub.status.busy": "2024-12-02T05:03:51.123235Z",
          "iopub.execute_input": "2024-12-02T05:03:51.124291Z",
          "iopub.status.idle": "2024-12-02T05:04:23.006800Z",
          "shell.execute_reply.started": "2024-12-02T05:03:51.124200Z",
          "shell.execute_reply": "2024-12-02T05:04:23.005988Z"
        },
        "id": "llJDVoxesgZJ"
      },
      "outputs": [],
      "execution_count": null
    },
    {
      "cell_type": "code",
      "source": [
        "images = np.array(images)\n",
        "labels = np.array(labels)\n",
        "\n",
        "#Splitting the images and labels into training and testing sets, then normalizing the values within them for computational efficiency (from 0-255 scale to 0-1 scale)\n",
        "imagetrain, imagetest, labeltrain, labeltest = train_test_split(images, labels, test_size=0.3, random_state=42)\n",
        "imagetrain = (imagetrain.astype('float32'))/255\n",
        "imagetest = (imagetest.astype('float32'))/255"
      ],
      "metadata": {
        "trusted": true,
        "execution": {
          "iopub.status.busy": "2024-12-02T05:04:23.008247Z",
          "iopub.execute_input": "2024-12-02T05:04:23.008562Z",
          "iopub.status.idle": "2024-12-02T05:04:24.038315Z",
          "shell.execute_reply.started": "2024-12-02T05:04:23.008534Z",
          "shell.execute_reply": "2024-12-02T05:04:24.037622Z"
        },
        "id": "kPOzSbK_sgZK"
      },
      "outputs": [],
      "execution_count": null
    },
    {
      "cell_type": "code",
      "source": [
        "import numpy as np\n",
        "from imblearn.over_sampling import SMOTE\n",
        "\n",
        "# Debugging and checking dimensions\n",
        "print(f\"Initial shape of imagetrain: {imagetrain.shape}\")\n",
        "print(f\"Total elements in imagetrain: {imagetrain.size}\")\n",
        "\n",
        "# Calculate expected size\n",
        "expected_size = 2940 * (imagesize * imagesize)\n",
        "print(f\"Expected size for reshaping: {expected_size}\")\n",
        "\n",
        "# Ensure the sizes match before reshaping\n",
        "if imagetrain.size == expected_size:\n",
        "    # Reshape imagetrain to prepare for SMOTE\n",
        "    imagetrain = imagetrain.reshape(2940, imagesize * imagesize)\n",
        "    print(f\"Shape after reshaping for SMOTE: {imagetrain.shape}\")\n",
        "\n",
        "    # Perform SMOTE oversampling\n",
        "    smote = SMOTE(random_state=42)\n",
        "    imagetrain, labeltrain = smote.fit_resample(imagetrain, labeltrain)\n",
        "\n",
        "    # Unflatten images for CNN input\n",
        "    imagetrain = imagetrain.reshape(-1, imagesize, imagesize, 1)\n",
        "    print(f\"Final shape of imagetrain for CNN: {imagetrain.shape}\")\n",
        "else:\n",
        "    print(\"Mismatch in sizes! Reshape cannot proceed.\")\n"
      ],
      "metadata": {
        "trusted": true,
        "execution": {
          "iopub.status.busy": "2024-12-02T05:07:52.526155Z",
          "iopub.execute_input": "2024-12-02T05:07:52.526685Z",
          "iopub.status.idle": "2024-12-02T05:07:52.533182Z",
          "shell.execute_reply.started": "2024-12-02T05:07:52.526638Z",
          "shell.execute_reply": "2024-12-02T05:07:52.532286Z"
        },
        "id": "o6QYWud8sgZK",
        "outputId": "76a4eb0f-d4cf-465f-df65-4adc09aa9ee9"
      },
      "outputs": [
        {
          "name": "stdout",
          "text": "Initial shape of imagetrain: (5880, 256, 256)\nTotal elements in imagetrain: 385351680\nExpected size for reshaping: 192675840\nMismatch in sizes! Reshape cannot proceed.\n",
          "output_type": "stream"
        }
      ],
      "execution_count": null
    },
    {
      "cell_type": "code",
      "source": [
        "'''\n",
        "imagetrain = imagetrain.reshape(2940, (imagesize*imagesize))\n",
        "\n",
        "#Performing oversampling\n",
        "smote = SMOTE(random_state=42)\n",
        "imagetrain, labeltrain = smote.fit_resample(imagetrain, labeltrain)\n",
        "\n",
        "#Unflattening the images now to use them for convolutional neural network (4914 images of 256x256 size, with 1 color channel (grayscale, as compared to RGB with 3 color channels))\n",
        "imagetrain = imagetrain.reshape(-1, imagesize, imagesize, 1)\n",
        "print(imagetrain.shape)\n",
        "\n",
        "'''"
      ],
      "metadata": {
        "trusted": true,
        "execution": {
          "iopub.status.busy": "2024-12-02T05:04:24.039389Z",
          "iopub.execute_input": "2024-12-02T05:04:24.039726Z",
          "iopub.status.idle": "2024-12-02T05:04:24.082613Z",
          "shell.execute_reply.started": "2024-12-02T05:04:24.039691Z",
          "shell.execute_reply": "2024-12-02T05:04:24.081331Z"
        },
        "jupyter": {
          "outputs_hidden": true,
          "source_hidden": true
        },
        "id": "E2odH6RAsgZK",
        "outputId": "1591e643-9171-4ff6-ddd6-21a805cad135"
      },
      "outputs": [
        {
          "traceback": [
            "\u001b[0;31m---------------------------------------------------------------------------\u001b[0m",
            "\u001b[0;31mValueError\u001b[0m                                Traceback (most recent call last)",
            "Cell \u001b[0;32mIn[34], line 1\u001b[0m\n\u001b[0;32m----> 1\u001b[0m imagetrain \u001b[38;5;241m=\u001b[39m \u001b[43mimagetrain\u001b[49m\u001b[38;5;241;43m.\u001b[39;49m\u001b[43mreshape\u001b[49m\u001b[43m(\u001b[49m\u001b[38;5;241;43m2940\u001b[39;49m\u001b[43m,\u001b[49m\u001b[43m \u001b[49m\u001b[43m(\u001b[49m\u001b[43mimagesize\u001b[49m\u001b[38;5;241;43m*\u001b[39;49m\u001b[43mimagesize\u001b[49m\u001b[43m)\u001b[49m\u001b[43m)\u001b[49m\n\u001b[1;32m      3\u001b[0m \u001b[38;5;66;03m#Performing oversampling\u001b[39;00m\n\u001b[1;32m      4\u001b[0m smote \u001b[38;5;241m=\u001b[39m SMOTE(random_state\u001b[38;5;241m=\u001b[39m\u001b[38;5;241m42\u001b[39m)\n",
            "\u001b[0;31mValueError\u001b[0m: cannot reshape array of size 385351680 into shape (2940,65536)"
          ],
          "ename": "ValueError",
          "evalue": "cannot reshape array of size 385351680 into shape (2940,65536)",
          "output_type": "error"
        }
      ],
      "execution_count": null
    },
    {
      "cell_type": "code",
      "source": [
        "print(np.unique(labeltrain, return_counts=True))"
      ],
      "metadata": {
        "trusted": true,
        "execution": {
          "iopub.status.busy": "2024-12-02T05:07:58.046510Z",
          "iopub.execute_input": "2024-12-02T05:07:58.046877Z",
          "iopub.status.idle": "2024-12-02T05:07:58.052628Z",
          "shell.execute_reply.started": "2024-12-02T05:07:58.046846Z",
          "shell.execute_reply": "2024-12-02T05:07:58.051746Z"
        },
        "id": "hoMPT7OZsgZL",
        "outputId": "4e5a5b17-9c14-43bc-d85d-fbe5d242e6c4"
      },
      "outputs": [
        {
          "name": "stdout",
          "text": "(array([0, 1]), array([4865, 1015]))\n",
          "output_type": "stream"
        }
      ],
      "execution_count": null
    },
    {
      "cell_type": "code",
      "source": [
        "#Importing the necessary libraries\n",
        "import tensorflow as tf\n",
        "import keras\n",
        "from keras import layers\n",
        "from keras.layers import Conv2D, MaxPooling2D, Flatten, Dense, Dropout"
      ],
      "metadata": {
        "trusted": true,
        "execution": {
          "iopub.status.busy": "2024-12-02T05:08:40.366207Z",
          "iopub.execute_input": "2024-12-02T05:08:40.366572Z",
          "iopub.status.idle": "2024-12-02T05:08:40.372303Z",
          "shell.execute_reply.started": "2024-12-02T05:08:40.366541Z",
          "shell.execute_reply": "2024-12-02T05:08:40.371420Z"
        },
        "id": "qEbzlXXWsgZQ"
      },
      "outputs": [],
      "execution_count": null
    },
    {
      "cell_type": "code",
      "source": [
        "cnn = keras.Sequential(\n",
        "    [\n",
        "    #Input layer, same shape as all the images (256x256x1):\n",
        "    keras.Input(shape=(224, 224, 1)),\n",
        "\n",
        "    #1st convolutional layer:\n",
        "    Conv2D(16, (3, 3), activation='relu'),\n",
        "    MaxPooling2D((2, 2)),\n",
        "\n",
        "    #2nd convolutional layer:\n",
        "    Conv2D(32, (3, 3), activation='relu'),\n",
        "    MaxPooling2D((2, 2)),\n",
        "\n",
        "    #3rd convolutional layer:\n",
        "    Conv2D(64, (3, 3), activation='relu'),\n",
        "    MaxPooling2D((2, 2)),\n",
        "\n",
        "    #Flattening layer for the dense layers:\n",
        "    Flatten(),\n",
        "\n",
        "    #1st dense layer following the convolutional layers:\n",
        "    Dense(64, activation='relu'),\n",
        "\n",
        "    #Dropout layer with heavy dropout rate to avoid overfitting in the large-ish dataset\n",
        "    Dropout(0.5),\n",
        "\n",
        "    #Output layer that squeezes each image to either 0 or 1 with sigmoid activation\n",
        "    Dense(1, activation='sigmoid')\n",
        "    ]\n",
        ")"
      ],
      "metadata": {
        "trusted": true,
        "execution": {
          "iopub.status.busy": "2024-12-02T05:08:42.702855Z",
          "iopub.execute_input": "2024-12-02T05:08:42.703203Z",
          "iopub.status.idle": "2024-12-02T05:08:42.756880Z",
          "shell.execute_reply.started": "2024-12-02T05:08:42.703169Z",
          "shell.execute_reply": "2024-12-02T05:08:42.756204Z"
        },
        "id": "zwS_BOzlsgZR"
      },
      "outputs": [],
      "execution_count": null
    },
    {
      "cell_type": "code",
      "source": [
        "cnn.summary()"
      ],
      "metadata": {
        "colab": {
          "base_uri": "https://localhost:8080/",
          "height": 449
        },
        "id": "VNGqw-XTC816",
        "outputId": "736c76e1-a498-4d92-8969-9a53ae90cc71"
      },
      "execution_count": null,
      "outputs": [
        {
          "output_type": "display_data",
          "data": {
            "text/plain": [
              "\u001b[1mModel: \"sequential\"\u001b[0m\n"
            ],
            "text/html": [
              "<pre style=\"white-space:pre;overflow-x:auto;line-height:normal;font-family:Menlo,'DejaVu Sans Mono',consolas,'Courier New',monospace\"><span style=\"font-weight: bold\">Model: \"sequential\"</span>\n",
              "</pre>\n"
            ]
          },
          "metadata": {}
        },
        {
          "output_type": "display_data",
          "data": {
            "text/plain": [
              "┏━━━━━━━━━━━━━━━━━━━━━━━━━━━━━━━━━━━━━━┳━━━━━━━━━━━━━━━━━━━━━━━━━━━━━┳━━━━━━━━━━━━━━━━━┓\n",
              "┃\u001b[1m \u001b[0m\u001b[1mLayer (type)                        \u001b[0m\u001b[1m \u001b[0m┃\u001b[1m \u001b[0m\u001b[1mOutput Shape               \u001b[0m\u001b[1m \u001b[0m┃\u001b[1m \u001b[0m\u001b[1m        Param #\u001b[0m\u001b[1m \u001b[0m┃\n",
              "┡━━━━━━━━━━━━━━━━━━━━━━━━━━━━━━━━━━━━━━╇━━━━━━━━━━━━━━━━━━━━━━━━━━━━━╇━━━━━━━━━━━━━━━━━┩\n",
              "│ conv2d (\u001b[38;5;33mConv2D\u001b[0m)                      │ (\u001b[38;5;45mNone\u001b[0m, \u001b[38;5;34m222\u001b[0m, \u001b[38;5;34m222\u001b[0m, \u001b[38;5;34m16\u001b[0m)        │             \u001b[38;5;34m160\u001b[0m │\n",
              "├──────────────────────────────────────┼─────────────────────────────┼─────────────────┤\n",
              "│ max_pooling2d (\u001b[38;5;33mMaxPooling2D\u001b[0m)         │ (\u001b[38;5;45mNone\u001b[0m, \u001b[38;5;34m111\u001b[0m, \u001b[38;5;34m111\u001b[0m, \u001b[38;5;34m16\u001b[0m)        │               \u001b[38;5;34m0\u001b[0m │\n",
              "├──────────────────────────────────────┼─────────────────────────────┼─────────────────┤\n",
              "│ conv2d_1 (\u001b[38;5;33mConv2D\u001b[0m)                    │ (\u001b[38;5;45mNone\u001b[0m, \u001b[38;5;34m109\u001b[0m, \u001b[38;5;34m109\u001b[0m, \u001b[38;5;34m32\u001b[0m)        │           \u001b[38;5;34m4,640\u001b[0m │\n",
              "├──────────────────────────────────────┼─────────────────────────────┼─────────────────┤\n",
              "│ max_pooling2d_1 (\u001b[38;5;33mMaxPooling2D\u001b[0m)       │ (\u001b[38;5;45mNone\u001b[0m, \u001b[38;5;34m54\u001b[0m, \u001b[38;5;34m54\u001b[0m, \u001b[38;5;34m32\u001b[0m)          │               \u001b[38;5;34m0\u001b[0m │\n",
              "├──────────────────────────────────────┼─────────────────────────────┼─────────────────┤\n",
              "│ conv2d_2 (\u001b[38;5;33mConv2D\u001b[0m)                    │ (\u001b[38;5;45mNone\u001b[0m, \u001b[38;5;34m52\u001b[0m, \u001b[38;5;34m52\u001b[0m, \u001b[38;5;34m64\u001b[0m)          │          \u001b[38;5;34m18,496\u001b[0m │\n",
              "├──────────────────────────────────────┼─────────────────────────────┼─────────────────┤\n",
              "│ max_pooling2d_2 (\u001b[38;5;33mMaxPooling2D\u001b[0m)       │ (\u001b[38;5;45mNone\u001b[0m, \u001b[38;5;34m26\u001b[0m, \u001b[38;5;34m26\u001b[0m, \u001b[38;5;34m64\u001b[0m)          │               \u001b[38;5;34m0\u001b[0m │\n",
              "├──────────────────────────────────────┼─────────────────────────────┼─────────────────┤\n",
              "│ flatten (\u001b[38;5;33mFlatten\u001b[0m)                    │ (\u001b[38;5;45mNone\u001b[0m, \u001b[38;5;34m43264\u001b[0m)               │               \u001b[38;5;34m0\u001b[0m │\n",
              "├──────────────────────────────────────┼─────────────────────────────┼─────────────────┤\n",
              "│ dense (\u001b[38;5;33mDense\u001b[0m)                        │ (\u001b[38;5;45mNone\u001b[0m, \u001b[38;5;34m64\u001b[0m)                  │       \u001b[38;5;34m2,768,960\u001b[0m │\n",
              "├──────────────────────────────────────┼─────────────────────────────┼─────────────────┤\n",
              "│ dropout (\u001b[38;5;33mDropout\u001b[0m)                    │ (\u001b[38;5;45mNone\u001b[0m, \u001b[38;5;34m64\u001b[0m)                  │               \u001b[38;5;34m0\u001b[0m │\n",
              "├──────────────────────────────────────┼─────────────────────────────┼─────────────────┤\n",
              "│ dense_1 (\u001b[38;5;33mDense\u001b[0m)                      │ (\u001b[38;5;45mNone\u001b[0m, \u001b[38;5;34m1\u001b[0m)                   │              \u001b[38;5;34m65\u001b[0m │\n",
              "└──────────────────────────────────────┴─────────────────────────────┴─────────────────┘\n"
            ],
            "text/html": [
              "<pre style=\"white-space:pre;overflow-x:auto;line-height:normal;font-family:Menlo,'DejaVu Sans Mono',consolas,'Courier New',monospace\">┏━━━━━━━━━━━━━━━━━━━━━━━━━━━━━━━━━━━━━━┳━━━━━━━━━━━━━━━━━━━━━━━━━━━━━┳━━━━━━━━━━━━━━━━━┓\n",
              "┃<span style=\"font-weight: bold\"> Layer (type)                         </span>┃<span style=\"font-weight: bold\"> Output Shape                </span>┃<span style=\"font-weight: bold\">         Param # </span>┃\n",
              "┡━━━━━━━━━━━━━━━━━━━━━━━━━━━━━━━━━━━━━━╇━━━━━━━━━━━━━━━━━━━━━━━━━━━━━╇━━━━━━━━━━━━━━━━━┩\n",
              "│ conv2d (<span style=\"color: #0087ff; text-decoration-color: #0087ff\">Conv2D</span>)                      │ (<span style=\"color: #00d7ff; text-decoration-color: #00d7ff\">None</span>, <span style=\"color: #00af00; text-decoration-color: #00af00\">222</span>, <span style=\"color: #00af00; text-decoration-color: #00af00\">222</span>, <span style=\"color: #00af00; text-decoration-color: #00af00\">16</span>)        │             <span style=\"color: #00af00; text-decoration-color: #00af00\">160</span> │\n",
              "├──────────────────────────────────────┼─────────────────────────────┼─────────────────┤\n",
              "│ max_pooling2d (<span style=\"color: #0087ff; text-decoration-color: #0087ff\">MaxPooling2D</span>)         │ (<span style=\"color: #00d7ff; text-decoration-color: #00d7ff\">None</span>, <span style=\"color: #00af00; text-decoration-color: #00af00\">111</span>, <span style=\"color: #00af00; text-decoration-color: #00af00\">111</span>, <span style=\"color: #00af00; text-decoration-color: #00af00\">16</span>)        │               <span style=\"color: #00af00; text-decoration-color: #00af00\">0</span> │\n",
              "├──────────────────────────────────────┼─────────────────────────────┼─────────────────┤\n",
              "│ conv2d_1 (<span style=\"color: #0087ff; text-decoration-color: #0087ff\">Conv2D</span>)                    │ (<span style=\"color: #00d7ff; text-decoration-color: #00d7ff\">None</span>, <span style=\"color: #00af00; text-decoration-color: #00af00\">109</span>, <span style=\"color: #00af00; text-decoration-color: #00af00\">109</span>, <span style=\"color: #00af00; text-decoration-color: #00af00\">32</span>)        │           <span style=\"color: #00af00; text-decoration-color: #00af00\">4,640</span> │\n",
              "├──────────────────────────────────────┼─────────────────────────────┼─────────────────┤\n",
              "│ max_pooling2d_1 (<span style=\"color: #0087ff; text-decoration-color: #0087ff\">MaxPooling2D</span>)       │ (<span style=\"color: #00d7ff; text-decoration-color: #00d7ff\">None</span>, <span style=\"color: #00af00; text-decoration-color: #00af00\">54</span>, <span style=\"color: #00af00; text-decoration-color: #00af00\">54</span>, <span style=\"color: #00af00; text-decoration-color: #00af00\">32</span>)          │               <span style=\"color: #00af00; text-decoration-color: #00af00\">0</span> │\n",
              "├──────────────────────────────────────┼─────────────────────────────┼─────────────────┤\n",
              "│ conv2d_2 (<span style=\"color: #0087ff; text-decoration-color: #0087ff\">Conv2D</span>)                    │ (<span style=\"color: #00d7ff; text-decoration-color: #00d7ff\">None</span>, <span style=\"color: #00af00; text-decoration-color: #00af00\">52</span>, <span style=\"color: #00af00; text-decoration-color: #00af00\">52</span>, <span style=\"color: #00af00; text-decoration-color: #00af00\">64</span>)          │          <span style=\"color: #00af00; text-decoration-color: #00af00\">18,496</span> │\n",
              "├──────────────────────────────────────┼─────────────────────────────┼─────────────────┤\n",
              "│ max_pooling2d_2 (<span style=\"color: #0087ff; text-decoration-color: #0087ff\">MaxPooling2D</span>)       │ (<span style=\"color: #00d7ff; text-decoration-color: #00d7ff\">None</span>, <span style=\"color: #00af00; text-decoration-color: #00af00\">26</span>, <span style=\"color: #00af00; text-decoration-color: #00af00\">26</span>, <span style=\"color: #00af00; text-decoration-color: #00af00\">64</span>)          │               <span style=\"color: #00af00; text-decoration-color: #00af00\">0</span> │\n",
              "├──────────────────────────────────────┼─────────────────────────────┼─────────────────┤\n",
              "│ flatten (<span style=\"color: #0087ff; text-decoration-color: #0087ff\">Flatten</span>)                    │ (<span style=\"color: #00d7ff; text-decoration-color: #00d7ff\">None</span>, <span style=\"color: #00af00; text-decoration-color: #00af00\">43264</span>)               │               <span style=\"color: #00af00; text-decoration-color: #00af00\">0</span> │\n",
              "├──────────────────────────────────────┼─────────────────────────────┼─────────────────┤\n",
              "│ dense (<span style=\"color: #0087ff; text-decoration-color: #0087ff\">Dense</span>)                        │ (<span style=\"color: #00d7ff; text-decoration-color: #00d7ff\">None</span>, <span style=\"color: #00af00; text-decoration-color: #00af00\">64</span>)                  │       <span style=\"color: #00af00; text-decoration-color: #00af00\">2,768,960</span> │\n",
              "├──────────────────────────────────────┼─────────────────────────────┼─────────────────┤\n",
              "│ dropout (<span style=\"color: #0087ff; text-decoration-color: #0087ff\">Dropout</span>)                    │ (<span style=\"color: #00d7ff; text-decoration-color: #00d7ff\">None</span>, <span style=\"color: #00af00; text-decoration-color: #00af00\">64</span>)                  │               <span style=\"color: #00af00; text-decoration-color: #00af00\">0</span> │\n",
              "├──────────────────────────────────────┼─────────────────────────────┼─────────────────┤\n",
              "│ dense_1 (<span style=\"color: #0087ff; text-decoration-color: #0087ff\">Dense</span>)                      │ (<span style=\"color: #00d7ff; text-decoration-color: #00d7ff\">None</span>, <span style=\"color: #00af00; text-decoration-color: #00af00\">1</span>)                   │              <span style=\"color: #00af00; text-decoration-color: #00af00\">65</span> │\n",
              "└──────────────────────────────────────┴─────────────────────────────┴─────────────────┘\n",
              "</pre>\n"
            ]
          },
          "metadata": {}
        },
        {
          "output_type": "display_data",
          "data": {
            "text/plain": [
              "\u001b[1m Total params: \u001b[0m\u001b[38;5;34m2,792,321\u001b[0m (10.65 MB)\n"
            ],
            "text/html": [
              "<pre style=\"white-space:pre;overflow-x:auto;line-height:normal;font-family:Menlo,'DejaVu Sans Mono',consolas,'Courier New',monospace\"><span style=\"font-weight: bold\"> Total params: </span><span style=\"color: #00af00; text-decoration-color: #00af00\">2,792,321</span> (10.65 MB)\n",
              "</pre>\n"
            ]
          },
          "metadata": {}
        },
        {
          "output_type": "display_data",
          "data": {
            "text/plain": [
              "\u001b[1m Trainable params: \u001b[0m\u001b[38;5;34m2,792,321\u001b[0m (10.65 MB)\n"
            ],
            "text/html": [
              "<pre style=\"white-space:pre;overflow-x:auto;line-height:normal;font-family:Menlo,'DejaVu Sans Mono',consolas,'Courier New',monospace\"><span style=\"font-weight: bold\"> Trainable params: </span><span style=\"color: #00af00; text-decoration-color: #00af00\">2,792,321</span> (10.65 MB)\n",
              "</pre>\n"
            ]
          },
          "metadata": {}
        },
        {
          "output_type": "display_data",
          "data": {
            "text/plain": [
              "\u001b[1m Non-trainable params: \u001b[0m\u001b[38;5;34m0\u001b[0m (0.00 B)\n"
            ],
            "text/html": [
              "<pre style=\"white-space:pre;overflow-x:auto;line-height:normal;font-family:Menlo,'DejaVu Sans Mono',consolas,'Courier New',monospace\"><span style=\"font-weight: bold\"> Non-trainable params: </span><span style=\"color: #00af00; text-decoration-color: #00af00\">0</span> (0.00 B)\n",
              "</pre>\n"
            ]
          },
          "metadata": {}
        }
      ]
    },
    {
      "cell_type": "code",
      "source": [
        "cnn.compile(\n",
        "    loss='binary_crossentropy', #Best for binary classification\n",
        "    optimizer = keras.optimizers.Adam(learning_rate=0.001), #Good starting LR for dataset of this size\n",
        "    metrics=['accuracy'], #Looking for accuracy\n",
        ")"
      ],
      "metadata": {
        "trusted": true,
        "execution": {
          "iopub.status.busy": "2024-12-02T05:08:46.811757Z",
          "iopub.execute_input": "2024-12-02T05:08:46.812109Z",
          "iopub.status.idle": "2024-12-02T05:08:46.820577Z",
          "shell.execute_reply.started": "2024-12-02T05:08:46.812077Z",
          "shell.execute_reply": "2024-12-02T05:08:46.819723Z"
        },
        "id": "GMZbWNrYsgZZ"
      },
      "outputs": [],
      "execution_count": null
    },
    {
      "cell_type": "code",
      "source": [
        "from keras.callbacks import ReduceLROnPlateau\n",
        "reduce_lr = ReduceLROnPlateau(monitor='accuracy', factor=0.1, patience=1, min_lr=0.00001, verbose=1)\n",
        "\n",
        "#Fitting the model w/ the callback. ON VS CODE, batch size of 16 makes each epoch take around a minute in this case w/ good accuracy, making the whole training process 10 min, but on Kaggle it should take longer due to less computational resources:\n",
        "cnn.fit(imagetrain, labeltrain, batch_size=16, epochs=10, verbose=2, callbacks = [reduce_lr])"
      ],
      "metadata": {
        "trusted": true,
        "execution": {
          "iopub.status.busy": "2024-12-02T05:08:49.848841Z",
          "iopub.execute_input": "2024-12-02T05:08:49.849406Z",
          "iopub.status.idle": "2024-12-02T05:09:31.509932Z",
          "shell.execute_reply.started": "2024-12-02T05:08:49.849372Z",
          "shell.execute_reply": "2024-12-02T05:09:31.509162Z"
        },
        "id": "S4wGsH2JsgZZ",
        "outputId": "e3e61954-07a3-452c-d7e9-cbe55d833d8a"
      },
      "outputs": [
        {
          "name": "stdout",
          "text": "Epoch 1/10\n368/368 - 10s - 26ms/step - accuracy: 0.8974 - loss: 0.2310 - learning_rate: 0.0010\nEpoch 2/10\n",
          "output_type": "stream"
        },
        {
          "name": "stderr",
          "text": "I0000 00:00:1733116143.095898     114 asm_compiler.cc:369] ptxas warning : Registers are spilled to local memory in function 'input_reduce_select_fusion_1', 68 bytes spill stores, 68 bytes spill loads\n\n",
          "output_type": "stream"
        },
        {
          "name": "stdout",
          "text": "368/368 - 3s - 9ms/step - accuracy: 0.9537 - loss: 0.1293 - learning_rate: 0.0010\nEpoch 3/10\n368/368 - 3s - 9ms/step - accuracy: 0.9697 - loss: 0.0910 - learning_rate: 0.0010\nEpoch 4/10\n368/368 - 3s - 8ms/step - accuracy: 0.9799 - loss: 0.0637 - learning_rate: 0.0010\nEpoch 5/10\n368/368 - 3s - 9ms/step - accuracy: 0.9828 - loss: 0.0545 - learning_rate: 0.0010\nEpoch 6/10\n368/368 - 3s - 8ms/step - accuracy: 0.9879 - loss: 0.0435 - learning_rate: 0.0010\nEpoch 7/10\n\nEpoch 7: ReduceLROnPlateau reducing learning rate to 0.00010000000474974513.\n368/368 - 3s - 8ms/step - accuracy: 0.9876 - loss: 0.0404 - learning_rate: 0.0010\nEpoch 8/10\n368/368 - 3s - 9ms/step - accuracy: 0.9949 - loss: 0.0222 - learning_rate: 1.0000e-04\nEpoch 9/10\n\nEpoch 9: ReduceLROnPlateau reducing learning rate to 1.0000000474974514e-05.\n368/368 - 3s - 9ms/step - accuracy: 0.9947 - loss: 0.0200 - learning_rate: 1.0000e-04\nEpoch 10/10\n368/368 - 3s - 9ms/step - accuracy: 0.9971 - loss: 0.0177 - learning_rate: 1.0000e-05\n",
          "output_type": "stream"
        },
        {
          "execution_count": 40,
          "output_type": "execute_result",
          "data": {
            "text/plain": "<keras.src.callbacks.history.History at 0x7dc30c7d8250>"
          },
          "metadata": {}
        }
      ],
      "execution_count": null
    },
    {
      "cell_type": "code",
      "source": [
        "print('TESTING DATA:')\n",
        "cnn.evaluate(imagetest, labeltest, batch_size=32, verbose=2)\n",
        "\n",
        "print('ADVANCED TESTING METRICS:')\n",
        "from sklearn.metrics import classification_report, confusion_matrix\n",
        "predictions = cnn.predict(imagetest, batch_size=32)\n",
        "predicted_labels = (predictions > 0.5).astype('int32')\n",
        "print(classification_report(labeltest, predicted_labels))\n",
        "print(confusion_matrix(labeltest, predicted_labels))"
      ],
      "metadata": {
        "trusted": true,
        "execution": {
          "iopub.status.busy": "2024-12-02T05:09:34.643802Z",
          "iopub.execute_input": "2024-12-02T05:09:34.644148Z",
          "iopub.status.idle": "2024-12-02T05:09:40.886063Z",
          "shell.execute_reply.started": "2024-12-02T05:09:34.644115Z",
          "shell.execute_reply": "2024-12-02T05:09:40.884979Z"
        },
        "id": "p5secd5GsgZa",
        "outputId": "f28aac38-27da-41bf-e58d-c5b939ae8e2c"
      },
      "outputs": [
        {
          "name": "stdout",
          "text": "TESTING DATA:\n79/79 - 2s - 26ms/step - accuracy: 0.9925 - loss: 0.0259\nADVANCED TESTING METRICS:\n\u001b[1m79/79\u001b[0m \u001b[32m━━━━━━━━━━━━━━━━━━━━\u001b[0m\u001b[37m\u001b[0m \u001b[1m1s\u001b[0m 7ms/step\n              precision    recall  f1-score   support\n\n           0       1.00      1.00      1.00      2135\n           1       0.97      0.98      0.98       385\n\n    accuracy                           0.99      2520\n   macro avg       0.98      0.99      0.99      2520\nweighted avg       0.99      0.99      0.99      2520\n\n[[2125   10]\n [   9  376]]\n",
          "output_type": "stream"
        }
      ],
      "execution_count": null
    },
    {
      "cell_type": "code",
      "source": [
        "import matplotlib.pyplot as plt\n",
        "from sklearn.metrics import ConfusionMatrixDisplay\n",
        "\n",
        "# Print confusion matrix as text\n",
        "cm = confusion_matrix(labeltest, predicted_labels)\n",
        "print(\"Confusion Matrix:\")\n",
        "print(cm)\n",
        "\n",
        "# Plot confusion matrix\n",
        "plt.figure(figsize=(8, 6))\n",
        "disp = ConfusionMatrixDisplay(confusion_matrix=cm, display_labels=['Class 0', 'Class 1'])\n",
        "disp.plot(cmap=plt.cm.Blues)\n",
        "plt.title(\"Confusion Matrix\")\n",
        "plt.show()\n"
      ],
      "metadata": {
        "trusted": true,
        "execution": {
          "iopub.status.busy": "2024-12-02T05:10:55.035683Z",
          "iopub.execute_input": "2024-12-02T05:10:55.036781Z",
          "iopub.status.idle": "2024-12-02T05:10:55.210337Z",
          "shell.execute_reply.started": "2024-12-02T05:10:55.036743Z",
          "shell.execute_reply": "2024-12-02T05:10:55.209419Z"
        },
        "id": "FM4mG39VsgZa",
        "outputId": "41730c7c-6659-4794-e86d-803498615a24"
      },
      "outputs": [
        {
          "name": "stdout",
          "text": "Confusion Matrix:\n[[2125   10]\n [   9  376]]\n",
          "output_type": "stream"
        },
        {
          "output_type": "display_data",
          "data": {
            "text/plain": "<Figure size 800x600 with 0 Axes>"
          },
          "metadata": {}
        },
        {
          "output_type": "display_data",
          "data": {
            "text/plain": "<Figure size 640x480 with 2 Axes>",
            "image/png": "[encoded data removed]"
          },
          "metadata": {}
        }
      ],
      "execution_count": null
    },
    {
      "cell_type": "markdown",
      "source": [
        "# Finally we are satisfied"
      ],
      "metadata": {
        "id": "Nb328F6xsgZb"
      }
    },
    {
      "cell_type": "markdown",
      "source": [
        "Comparison:\n",
        "\n",
        "1. Confusion matrix is good\n",
        "2. F-1 is 1\n",
        "3. Computational time is 10X faster\n",
        "4. Parameters are less"
      ],
      "metadata": {
        "id": "0iaFb8l4sgZb"
      }
    },
    {
      "cell_type": "code",
      "source": [],
      "metadata": {
        "trusted": true,
        "id": "C7aAkSVpsgZb"
      },
      "outputs": [],
      "execution_count": null
    },
    {
      "cell_type": "markdown",
      "source": [],
      "metadata": {
        "id": "GQs7p_QVsgZc"
      }
    }
  ]
}